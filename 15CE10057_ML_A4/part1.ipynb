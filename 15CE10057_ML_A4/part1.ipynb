{
 "cells": [
  {
   "cell_type": "code",
   "execution_count": 1,
   "metadata": {},
   "outputs": [
    {
     "name": "stderr",
     "output_type": "stream",
     "text": [
      "/Applications/anaconda3/lib/python3.6/importlib/_bootstrap.py:219: RuntimeWarning: numpy.dtype size changed, may indicate binary incompatibility. Expected 96, got 88\n",
      "  return f(*args, **kwds)\n",
      "/Applications/anaconda3/lib/python3.6/importlib/_bootstrap.py:219: RuntimeWarning: numpy.dtype size changed, may indicate binary incompatibility. Expected 96, got 88\n",
      "  return f(*args, **kwds)\n",
      "/Applications/anaconda3/lib/python3.6/importlib/_bootstrap.py:219: RuntimeWarning: numpy.dtype size changed, may indicate binary incompatibility. Expected 96, got 88\n",
      "  return f(*args, **kwds)\n",
      "/Applications/anaconda3/lib/python3.6/importlib/_bootstrap.py:219: RuntimeWarning: numpy.dtype size changed, may indicate binary incompatibility. Expected 96, got 88\n",
      "  return f(*args, **kwds)\n",
      "/Applications/anaconda3/lib/python3.6/importlib/_bootstrap.py:219: RuntimeWarning: numpy.dtype size changed, may indicate binary incompatibility. Expected 96, got 88\n",
      "  return f(*args, **kwds)\n"
     ]
    }
   ],
   "source": [
    "%reload_ext autoreload\n",
    "%autoreload 2\n",
    "%matplotlib inline\n",
    "\n",
    "import os, string, collections\n",
    "import numpy as np\n",
    "import pandas as pd\n",
    "import matplotlib.pyplot as plt\n",
    "import seaborn as sns\n",
    "import nltk\n",
    "from nltk.tokenize import word_tokenize\n",
    "from nltk.corpus import stopwords\n",
    "from sklearn.preprocessing import LabelEncoder\n",
    "from sklearn.base import BaseEstimator, TransformerMixin\n",
    "from sklearn.model_selection import train_test_split, StratifiedKFold, cross_val_score\n",
    "from sklearn import metrics\n",
    "from collections import Counter \n",
    "from __future__ import print_function\n",
    "from nltk.stem.porter import PorterStemmer"
   ]
  },
  {
   "cell_type": "code",
   "execution_count": 2,
   "metadata": {},
   "outputs": [],
   "source": [
    "def data_loader():\n",
    "    with open(\"assign_4_data.txt\",\"r\") as f:\n",
    "        output_wordlist = [r.split()[0] for r in f]\n",
    "        f.close()\n",
    "    with open(\"data.txt\",\"r\") as f:\n",
    "        data = f.readlines()\n",
    "    with open(\"data.txt\",\"r\") as f:\n",
    "        text = f.read()\n",
    "        \n",
    "    return data, text, output_wordlist"
   ]
  },
  {
   "cell_type": "code",
   "execution_count": 3,
   "metadata": {},
   "outputs": [],
   "source": [
    "data, text, output_wordlist = data_loader()"
   ]
  },
  {
   "cell_type": "markdown",
   "metadata": {},
   "source": [
    "## Preprocessing"
   ]
  },
  {
   "cell_type": "code",
   "execution_count": 4,
   "metadata": {},
   "outputs": [],
   "source": [
    "def preprocessing(data, text, output_wordlist):\n",
    "    \n",
    "    \n",
    "    #### Part 1: Break each message into tokens\n",
    "    # sentences = sent_tokenize(text)\n",
    "    n = len(data)\n",
    "    tokenized_data = []\n",
    "    for i in range(0,n):\n",
    "        test = str(data[i])\n",
    "        tokens = word_tokenize(test)\n",
    "        words = [word for word in tokens if word.isalpha()]\n",
    "        tokenized_data.append(words)\n",
    "\n",
    "    tokens = word_tokenize(text)\n",
    "    temp_vocab = [word for word in tokens if word.isalpha()]\n",
    "\n",
    "    \n",
    "    #### Part 2: Removing English stopwords\n",
    "    stop_words = stopwords.words('english')\n",
    "    stop_words = [word.lower() for word in stop_words]\n",
    "    temp_vocab = [word.lower() for word in temp_vocab]\n",
    "    for i in range(0,n):\n",
    "        tokens = tokenized_data[i]\n",
    "        words = [word.lower() for word in tokens]\n",
    "        tokenized_data[i] = words\n",
    "    noSW_tokenized_data = []\n",
    "    for i in range(0,n):\n",
    "        tokens = tokenized_data[i]\n",
    "        words = [w for w in tokens if not w in stop_words]\n",
    "    #     print(words)\n",
    "        noSW_tokenized_data.append(words)\n",
    "    noSW_vocab = [w for w in temp_vocab if not w in stop_words]\n",
    "\n",
    "    \n",
    "    \n",
    "    #### Part 3: Porter Stemming\n",
    "    from nltk.stem.porter import PorterStemmer\n",
    "    porter = PorterStemmer()\n",
    "    stemmed_data = []\n",
    "    for i in range(0,n):\n",
    "        words = [porter.stem(word) for word in noSW_tokenized_data[i]]\n",
    "        stemmed_data.append(words)\n",
    "    stemmed_vocab = [porter.stem(word) for word in noSW_vocab]\n",
    "\n",
    "    \n",
    "    \n",
    "    ### Vocabulary creation\n",
    "    counter = Counter(stemmed_vocab)\n",
    "    most_frequent_count = 500\n",
    "    most_occur = counter.most_common(most_frequent_count)\n",
    "    vocab = []\n",
    "    for word in most_occur:\n",
    "        vocab.append(word[0]) \n",
    "\n",
    "    V = len(vocab)\n",
    "    token_vector =  np.zeros((n, V)).tolist()\n",
    "    for i in range(0,V):\n",
    "        word = vocab[i]\n",
    "        for j in range(0,n):\n",
    "            for w in stemmed_data[j]:\n",
    "                if word == w:\n",
    "                    token_vector[j][i] = 1\n",
    "\n",
    "                    \n",
    "    #### Target Variable definition\n",
    "    output_wordlist_num = []\n",
    "    for word in output_wordlist:\n",
    "        if word == 'ham':\n",
    "            output_wordlist_num.append(1)\n",
    "        elif word == 'spam':\n",
    "            output_wordlist_num.append(0)\n",
    "    \n",
    "    token_vector = np.array(token_vector)\n",
    "    output_wordlist_num = np.array(output_wordlist_num)\n",
    "\n",
    "    \n",
    "    \n",
    "    #### Test-Train split\n",
    "    train_split = 0.8\n",
    "    train_size = int(train_split*n)\n",
    "\n",
    "    X_train = token_vector[0:train_size]\n",
    "    Y_train = output_wordlist_num[0:train_size]\n",
    "    X_test = token_vector[train_size:]\n",
    "    y_test = output_wordlist_num[train_size:].reshape((-1, 1)) \n",
    "    X = X_train\n",
    "    y = Y_train.reshape((-1, 1)) \n",
    "    \n",
    "    return X_train, Y_train, X_test, y_test, X, y"
   ]
  },
  {
   "cell_type": "code",
   "execution_count": 5,
   "metadata": {},
   "outputs": [],
   "source": [
    "X_train, Y_train, X_test, y_test, X, y = preprocessing(data, text, output_wordlist)"
   ]
  },
  {
   "cell_type": "markdown",
   "metadata": {},
   "source": [
    "## Part 1:\n",
    "\n",
    "#we have 3 layers: input layer, hidden layer and output layer\n",
    "#input layer has 500 nodes (Vocabulary size = 500)\n",
    "#hidden layer has 100 nodes\n",
    "#output layer has 1 node"
   ]
  },
  {
   "cell_type": "code",
   "execution_count": 6,
   "metadata": {},
   "outputs": [],
   "source": [
    "np.random.seed(0)"
   ]
  },
  {
   "cell_type": "code",
   "execution_count": 7,
   "metadata": {},
   "outputs": [],
   "source": [
    "def weight_initialiser(X_train, hidden_layer_nodes =100, output_nodes=1):\n",
    "    dim1 = len(X_train[0])\n",
    "    dim2 = hidden_layer_nodes\n",
    "    dim3 = output_nodes\n",
    "    weight0 = 2 * np.random.random((dim1, dim2)) - 1\n",
    "    weight1 = 2 * np.random.random((dim2, dim3)) - 1\n",
    "    \n",
    "    return weight0, weight1"
   ]
  },
  {
   "cell_type": "code",
   "execution_count": 8,
   "metadata": {},
   "outputs": [],
   "source": [
    "def sigmoid_derivative(x):\n",
    "    return x * (1.0 - x)\n",
    "def sigmoid(x):\n",
    "    return 1.0 / (1.0 + np.exp(-x))"
   ]
  },
  {
   "cell_type": "code",
   "execution_count": 9,
   "metadata": {},
   "outputs": [],
   "source": [
    "def relu(x):\n",
    "    return np.maximum(x,0.01) #Taking 0.01 to tackle dying Relu problem"
   ]
  },
  {
   "cell_type": "code",
   "execution_count": 10,
   "metadata": {},
   "outputs": [],
   "source": [
    "def softmax(X):\n",
    "#     print(X)\n",
    "    exps = np.exp(X-np.max(X))\n",
    "#     print(\"\\n\\n\\n\", exps, \"\\n\\n\\n\\n\\n\\n\")\n",
    "    return exps / np.sum(exps)\n",
    "\n",
    "def CrossEntropy_Loss(p, t):\n",
    "    y = softmax(p)\n",
    "    return (-np.mean(np.multiply(t, np.log(y+1e-9))))"
   ]
  },
  {
   "cell_type": "code",
   "execution_count": 11,
   "metadata": {},
   "outputs": [],
   "source": [
    "def reluDerivative(x):     \n",
    "    x[x<=0] = 0\n",
    "    x[x>0] = 1\n",
    "    return x"
   ]
  },
  {
   "cell_type": "code",
   "execution_count": 12,
   "metadata": {},
   "outputs": [],
   "source": [
    "def derivative(p, t):\n",
    "    y = softmax(p)\n",
    "    return (y.T-t).T"
   ]
  },
  {
   "cell_type": "code",
   "execution_count": 13,
   "metadata": {},
   "outputs": [],
   "source": [
    "def forward(X_train, weight0, weight1):\n",
    "    layer_0 = X_train\n",
    "    layer_1 = relu(np.dot(layer_0,weight0))\n",
    "    layer_2 = sigmoid(np.dot(layer_1,weight1))\n",
    "    return layer_0, layer_1, layer_2"
   ]
  },
  {
   "cell_type": "code",
   "execution_count": 14,
   "metadata": {},
   "outputs": [],
   "source": [
    "def backward(weight0, weight1, layer_0, layer_1, layer_2, Y_train, learning_rate):\n",
    "    loss = CrossEntropy_Loss(layer_2, Y_train)\n",
    "    \n",
    "    layer_2_error = (Y_train - layer_2.T).T\n",
    "#     loss = layer_2_error.sum()\n",
    "#     layer_2_cross_derivative = derivative(layer_2, Y_train)\n",
    "#     layer_2 = reluDerivative(layer_2)\n",
    "#     layer_2_delta = np.dot(layer_1.T, layer_2_cross_derivative*layer_2)\n",
    "    layer_2_delta_error = layer_2_error * sigmoid_derivative(layer_2)\n",
    "    layer_2_delta = np.dot(layer_1.T, layer_2_delta_error)\n",
    "    layer_1_error = np.dot(layer_2_delta_error, weight1.T)\n",
    "    layer_1 = reluDerivative(layer_1)\n",
    "    layer_1_delta = np.dot(layer_0.T, layer_1_error * layer_1)\n",
    "\n",
    "    weight1 += learning_rate*layer_2_delta\n",
    "    weight0 += learning_rate*layer_1_delta\n",
    "    \n",
    "    return weight0, weight1, loss"
   ]
  },
  {
   "cell_type": "code",
   "execution_count": 15,
   "metadata": {},
   "outputs": [],
   "source": [
    "def create_mini_batches(X, y, batch_size): \n",
    "    mini_batches = [] \n",
    "    data = np.hstack((X, y)) \n",
    "    np.random.shuffle(data) \n",
    "    n_minibatches = data.shape[0] // batch_size \n",
    "    i = 0\n",
    "  \n",
    "    for i in range(n_minibatches + 1): \n",
    "        mini_batch = data[i * batch_size:(i + 1)*batch_size, :] \n",
    "        X_mini = mini_batch[:, :-1] \n",
    "        Y_mini = mini_batch[:, -1].reshape((-1, 1)) \n",
    "        mini_batches.append((X_mini, Y_mini)) \n",
    "    if data.shape[0] % batch_size != 0: \n",
    "        mini_batch = data[i * batch_size:data.shape[0]] \n",
    "        X_mini = mini_batch[:, :-1] \n",
    "        Y_mini = mini_batch[:, -1].reshape((-1, 1)) \n",
    "        mini_batches.append((X_mini, Y_mini)) \n",
    "    return mini_batches "
   ]
  },
  {
   "cell_type": "code",
   "execution_count": 16,
   "metadata": {},
   "outputs": [],
   "source": [
    "# mini_batches = create_mini_batches(X, y, 32)\n",
    "def gradientDescent(X, y, X_test, y_test,learning_rate = 0.1, batch_size = 32): \n",
    "    weight0, weight1 = weight_initialiser(X_train)\n",
    "    error_list = []\n",
    "    test_error_list = []\n",
    "    \n",
    "#     max_iters = 3\n",
    "#     for itr in range(max_iters): \n",
    "#         mini_batches = create_mini_batches(X, y, batch_size) \n",
    "#         for mini_batch in mini_batches: \n",
    "#             X_mini, y_mini = mini_batch\n",
    "#             layer_0, layer_1, layer_2 = forward(X_mini, weight0, weight1)\n",
    "#             weight0, weight1, loss = backward(weight0, weight1, layer_1, layer_2, y_mini)\n",
    "#             error_list.append(loss) \n",
    "    \n",
    "    iterations = 1000\n",
    "    for itr in range(iterations):\n",
    "        layer_0, layer_1, layer_2 = forward(X, weight0, weight1)\n",
    "        weight0, weight1, loss = backward(weight0, weight1, layer_0, layer_1, layer_2, y, learning_rate)\n",
    "#         print(itr, loss)\n",
    "        error_list.append(loss) \n",
    "    \n",
    "        test_layer_0 = X_test\n",
    "        test_layer_1 = relu(np.dot(test_layer_0,weight0))\n",
    "        test_layer_2 = sigmoid(np.dot(test_layer_1,weight1))\n",
    "#         print(len(test_layer_2))\n",
    "        correct = 0\n",
    "        for i in range(len(test_layer_2)):\n",
    "            if(test_layer_2[i][0] > 0.5):\n",
    "                test_layer_2[i][0] = 1\n",
    "            else:\n",
    "                test_layer_2[i][0] = 0\n",
    "            if(test_layer_2[i][0] == y_test[i][0]):\n",
    "                correct += 1\n",
    "        accuracy = correct * 100.0 / len(test_layer_2)\n",
    "        test_error_list.append((100-accuracy)/100)\n",
    "        \n",
    "    return weight0, weight1, error_list, test_error_list, accuracy "
   ]
  },
  {
   "cell_type": "code",
   "execution_count": 17,
   "metadata": {},
   "outputs": [],
   "source": [
    "b0, b1, error_list, test_error_list, accuracy = gradientDescent(X_train, Y_train, X_test, y_test)"
   ]
  },
  {
   "cell_type": "markdown",
   "metadata": {},
   "source": [
    "## Train Error vs Epochs"
   ]
  },
  {
   "cell_type": "code",
   "execution_count": 22,
   "metadata": {},
   "outputs": [
    {
     "data": {
      "text/plain": [
       "[<matplotlib.lines.Line2D at 0x1a147405f8>]"
      ]
     },
     "execution_count": 22,
     "metadata": {},
     "output_type": "execute_result"
    },
    {
     "data": {
      "image/png": "[encoded data removed]",
      "text/plain": [
       "<Figure size 432x288 with 1 Axes>"
      ]
     },
     "metadata": {},
     "output_type": "display_data"
    }
   ],
   "source": [
    "epochs = []\n",
    "for i in range(0,1000):\n",
    "    epochs.append(i+1)\n",
    "plt.ylabel('Train Error')\n",
    "plt.xlabel('Epochs')\n",
    "plt.title(\"Train Error vs Epochs\")\n",
    "plt.grid(True)\n",
    "plt.ylim(error_list[len(error_list)-1] , error_list[1])\n",
    "plt.plot(epochs, error_list)"
   ]
  },
  {
   "cell_type": "markdown",
   "metadata": {},
   "source": [
    "## Test Error vs Epochs"
   ]
  },
  {
   "cell_type": "code",
   "execution_count": 19,
   "metadata": {},
   "outputs": [
    {
     "data": {
      "text/plain": [
       "[<matplotlib.lines.Line2D at 0x1a146a0e10>]"
      ]
     },
     "execution_count": 19,
     "metadata": {},
     "output_type": "execute_result"
    },
    {
     "data": {
      "image/png": "[encoded data removed]",
      "text/plain": [
       "<Figure size 432x288 with 1 Axes>"
      ]
     },
     "metadata": {},
     "output_type": "display_data"
    }
   ],
   "source": [
    "epochs = []\n",
    "for i in range(0,1000):\n",
    "    epochs.append(i+1)\n",
    "plt.ylabel('Train Error')\n",
    "plt.xlabel('Epochs')\n",
    "plt.grid(True)\n",
    "plt.title(\"Test Error vs Epochs\")\n",
    "plt.plot(epochs, test_error_list)"
   ]
  },
  {
   "cell_type": "markdown",
   "metadata": {},
   "source": [
    "## Test Set"
   ]
  },
  {
   "cell_type": "code",
   "execution_count": 20,
   "metadata": {},
   "outputs": [],
   "source": [
    "layer_0 = X_test\n",
    "layer_1 = relu(np.dot(layer_0,b0))\n",
    "layer_2 = sigmoid(np.dot(layer_1,b1))"
   ]
  },
  {
   "cell_type": "code",
   "execution_count": 21,
   "metadata": {
    "scrolled": true
   },
   "outputs": [
    {
     "name": "stdout",
     "output_type": "stream",
     "text": [
      "total = 1115\n",
      "correct = 970\n",
      "accuracy =  86.99551569506727\n"
     ]
    }
   ],
   "source": [
    "correct = 0\n",
    "for i in range(len(layer_2)):\n",
    "    if(layer_2[i][0] > 0.5):\n",
    "        layer_2[i][0] = 1\n",
    "    else:\n",
    "        layer_2[i][0] = 0\n",
    "    if(layer_2[i][0] == y_test[i][0]):\n",
    "        correct += 1\n",
    "# printing the output\n",
    "print('total =', len(layer_2))\n",
    "print('correct =', correct)\n",
    "print ('accuracy = ', correct * 100.0 / len(layer_2))"
   ]
  },
  {
   "cell_type": "code",
   "execution_count": null,
   "metadata": {},
   "outputs": [],
   "source": []
  }
 ],
 "metadata": {
  "kernelspec": {
   "display_name": "Python 3",
   "language": "python",
   "name": "python3"
  },
  "language_info": {
   "codemirror_mode": {
    "name": "ipython",
    "version": 3
   },
   "file_extension": ".py",
   "mimetype": "text/x-python",
   "name": "python",
   "nbconvert_exporter": "python",
   "pygments_lexer": "ipython3",
   "version": "3.6.5"
  }
 },
 "nbformat": 4,
 "nbformat_minor": 2
}
