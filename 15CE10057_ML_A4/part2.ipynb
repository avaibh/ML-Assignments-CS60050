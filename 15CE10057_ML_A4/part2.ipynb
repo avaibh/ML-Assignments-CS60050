{
 "cells": [
  {
   "cell_type": "code",
   "execution_count": 20,
   "metadata": {},
   "outputs": [],
   "source": [
    "%reload_ext autoreload\n",
    "%autoreload 2\n",
    "%matplotlib inline\n",
    "\n",
    "import os, string, collections\n",
    "import numpy as np\n",
    "import pandas as pd\n",
    "import matplotlib.pyplot as plt\n",
    "import seaborn as sns\n",
    "import nltk\n",
    "from nltk.tokenize import word_tokenize\n",
    "from nltk.corpus import stopwords\n",
    "from sklearn.preprocessing import LabelEncoder\n",
    "from sklearn.base import BaseEstimator, TransformerMixin\n",
    "from sklearn.model_selection import train_test_split, StratifiedKFold, cross_val_score\n",
    "from sklearn import metrics\n",
    "from collections import Counter \n",
    "from __future__ import print_function\n",
    "from nltk.stem.porter import PorterStemmer\n",
    "\n",
    "np.random.seed(42)"
   ]
  },
  {
   "cell_type": "code",
   "execution_count": 21,
   "metadata": {},
   "outputs": [],
   "source": [
    "def data_loader():\n",
    "    with open(\"assign_4_data.txt\",\"r\") as f:\n",
    "        output_wordlist = [r.split()[0] for r in f]\n",
    "        f.close()\n",
    "    with open(\"data.txt\",\"r\") as f:\n",
    "        data = f.readlines()\n",
    "    with open(\"data.txt\",\"r\") as f:\n",
    "        text = f.read()\n",
    "        \n",
    "    return data, text, output_wordlist"
   ]
  },
  {
   "cell_type": "code",
   "execution_count": 22,
   "metadata": {},
   "outputs": [],
   "source": [
    "data, text, output_wordlist = data_loader()"
   ]
  },
  {
   "cell_type": "markdown",
   "metadata": {},
   "source": [
    "## Preprocessing"
   ]
  },
  {
   "cell_type": "code",
   "execution_count": 23,
   "metadata": {},
   "outputs": [],
   "source": [
    "def preprocessing(data, text, output_wordlist):\n",
    "    \n",
    "    \n",
    "    #### Part 1: Break each message into tokens\n",
    "    # sentences = sent_tokenize(text)\n",
    "    n = len(data)\n",
    "    tokenized_data = []\n",
    "    for i in range(0,n):\n",
    "        test = str(data[i])\n",
    "        tokens = word_tokenize(test)\n",
    "        words = [word for word in tokens if word.isalpha()]\n",
    "        tokenized_data.append(words)\n",
    "\n",
    "    tokens = word_tokenize(text)\n",
    "    temp_vocab = [word for word in tokens if word.isalpha()]\n",
    "\n",
    "    \n",
    "    #### Part 2: Removing English stopwords\n",
    "    stop_words = stopwords.words('english')\n",
    "    stop_words = [word.lower() for word in stop_words]\n",
    "    temp_vocab = [word.lower() for word in temp_vocab]\n",
    "    for i in range(0,n):\n",
    "        tokens = tokenized_data[i]\n",
    "        words = [word.lower() for word in tokens]\n",
    "        tokenized_data[i] = words\n",
    "    noSW_tokenized_data = []\n",
    "    for i in range(0,n):\n",
    "        tokens = tokenized_data[i]\n",
    "        words = [w for w in tokens if not w in stop_words]\n",
    "    #     print(words)\n",
    "        noSW_tokenized_data.append(words)\n",
    "    noSW_vocab = [w for w in temp_vocab if not w in stop_words]\n",
    "\n",
    "    \n",
    "    \n",
    "    #### Part 3: Porter Stemming\n",
    "    from nltk.stem.porter import PorterStemmer\n",
    "    porter = PorterStemmer()\n",
    "    stemmed_data = []\n",
    "    for i in range(0,n):\n",
    "        words = [porter.stem(word) for word in noSW_tokenized_data[i]]\n",
    "        stemmed_data.append(words)\n",
    "    stemmed_vocab = [porter.stem(word) for word in noSW_vocab]\n",
    "\n",
    "    \n",
    "    \n",
    "    ### Vocabulary creation\n",
    "    counter = Counter(stemmed_vocab)\n",
    "    most_frequent_count = 500\n",
    "    most_occur = counter.most_common(most_frequent_count)\n",
    "    vocab = []\n",
    "    for word in most_occur:\n",
    "        vocab.append(word[0]) \n",
    "\n",
    "    V = len(vocab)\n",
    "    token_vector =  np.zeros((n, V)).tolist()\n",
    "    for i in range(0,V):\n",
    "        word = vocab[i]\n",
    "        for j in range(0,n):\n",
    "            for w in stemmed_data[j]:\n",
    "                if word == w:\n",
    "                    token_vector[j][i] = 1\n",
    "\n",
    "                    \n",
    "    #### Target Variable definition\n",
    "    output_wordlist_num = []\n",
    "    for word in output_wordlist:\n",
    "        if word == 'ham':\n",
    "            output_wordlist_num.append(1)\n",
    "        elif word == 'spam':\n",
    "            output_wordlist_num.append(0)\n",
    "    \n",
    "    token_vector = np.array(token_vector)\n",
    "    output_wordlist_num = np.array(output_wordlist_num)\n",
    "\n",
    "    \n",
    "    \n",
    "    #### Test-Train split\n",
    "    train_split = 0.8\n",
    "    train_size = int(train_split*n)\n",
    "\n",
    "    X_train = token_vector[0:train_size]\n",
    "    Y_train = output_wordlist_num[0:train_size]\n",
    "    X_test = token_vector[train_size:]\n",
    "    y_test = output_wordlist_num[train_size:].reshape((-1, 1)) \n",
    "    X = X_train\n",
    "    y = Y_train.reshape((-1, 1)) \n",
    "    \n",
    "    return X_train, Y_train, X_test, y_test, X, y"
   ]
  },
  {
   "cell_type": "code",
   "execution_count": 24,
   "metadata": {},
   "outputs": [],
   "source": [
    "X_train, y_train, X_test, y_test, X, y = preprocessing(data, text, output_wordlist)"
   ]
  },
  {
   "cell_type": "code",
   "execution_count": 25,
   "metadata": {},
   "outputs": [],
   "source": [
    "Y_train = np.zeros((len(y_train), 2))\n",
    "Y_test = np.zeros((len(y_test), 2))\n",
    "Y = Y_train"
   ]
  },
  {
   "cell_type": "code",
   "execution_count": 26,
   "metadata": {},
   "outputs": [],
   "source": [
    "for i in range(0, len(y_train)):\n",
    "    if y_train[i] == 0:\n",
    "        Y_train[i][0] = 1\n",
    "    if y_train[i] == 1:\n",
    "        Y_train[i][1] = 1\n",
    "        \n",
    "for i in range(0, len(y_test)):\n",
    "    if y_test[i] == 0:\n",
    "        Y_test[i][0] = 1\n",
    "    if y_test[i] == 1:\n",
    "        Y_test[i][1] = 1"
   ]
  },
  {
   "cell_type": "markdown",
   "metadata": {},
   "source": [
    "## Part 2:\n",
    "\n",
    "#we have 4 layers: input layer, 2-hidden layer and output layer\n",
    "#input layer has 500 nodes (Vocabulary size = 500)\n",
    "#hidden layer has from command line nodes\n",
    "#output layer has 2 node"
   ]
  },
  {
   "cell_type": "code",
   "execution_count": 27,
   "metadata": {},
   "outputs": [
    {
     "name": "stdout",
     "output_type": "stream",
     "text": [
      "Enter the number of nodes in hidden layer 1: 10\n",
      "Enter the number of nodes in hidden layer 2: 5\n"
     ]
    }
   ],
   "source": [
    "layer1_node = int(input(\"Enter the number of nodes in hidden layer 1: \"))\n",
    "layer2_node = int(input(\"Enter the number of nodes in hidden layer 2: \"))"
   ]
  },
  {
   "cell_type": "code",
   "execution_count": 28,
   "metadata": {},
   "outputs": [],
   "source": [
    "def weight_initialiser(X_train, hidden_layer_nodes1 =100, hidden_layer_nodes2 =100, output_nodes=2):\n",
    "    dim1 = len(X_train[0])\n",
    "    dim2 = hidden_layer_nodes1\n",
    "    dim3 = hidden_layer_nodes2\n",
    "    dim4 = output_nodes\n",
    "    weight0 = 2 * np.random.random((dim1, dim2)) - 1\n",
    "    weight1 = 2 * np.random.random((dim2, dim3)) - 1\n",
    "    weight2 = 2 * np.random.random((dim3, dim4)) - 1\n",
    "    \n",
    "    return weight0, weight1, weight2"
   ]
  },
  {
   "cell_type": "code",
   "execution_count": 29,
   "metadata": {},
   "outputs": [],
   "source": [
    "def sigmoid(x):\n",
    "    return 1.0 / (1.0 + np.exp(-x))"
   ]
  },
  {
   "cell_type": "code",
   "execution_count": 30,
   "metadata": {},
   "outputs": [],
   "source": [
    "def sigmoid_derivative(x):\n",
    "    return x * (1.0 - x)"
   ]
  },
  {
   "cell_type": "code",
   "execution_count": 31,
   "metadata": {},
   "outputs": [],
   "source": [
    "def softmax(z):\n",
    "    return np.exp(z) / np.sum(np.exp(z))\n",
    "\n",
    "def CrossEntropy_Loss(t, p):\n",
    "    y = softmax(p)\n",
    "    return (-np.mean(np.multiply(t, np.log(y+1e-9))))\n",
    "\n",
    "def loss_derivative(t, p):\n",
    "    y = softmax(p)\n",
    "    return (y-t)"
   ]
  },
  {
   "cell_type": "code",
   "execution_count": 32,
   "metadata": {},
   "outputs": [],
   "source": [
    "def forward(X_train, weight0, weight1, weight2):\n",
    "    layer_0 = X_train\n",
    "    layer_1 = sigmoid(np.dot(layer_0,weight0))\n",
    "    layer_2 = sigmoid(np.dot(layer_1,weight1))\n",
    "    layer_3 = softmax(np.dot(layer_2,weight2))\n",
    "    \n",
    "    return layer_0, layer_1, layer_2, layer_3"
   ]
  },
  {
   "cell_type": "code",
   "execution_count": 33,
   "metadata": {},
   "outputs": [],
   "source": [
    "def backward(weight0, weight1, weight2, layer_0, layer_1, layer_2, layer_3, y, learning_rate):\n",
    "\n",
    "    W1, W2, W3 = weight0, weight1, weight2\n",
    "    \n",
    "    a0, a1, a2,a3 = layer_0, layer_1, layer_2, layer_3\n",
    "\n",
    "    m = y.shape[0]\n",
    "    \n",
    "    loss = CrossEntropy_Loss(a3, y)\n",
    "    \n",
    "\n",
    "    dz3 = loss_derivative(t=y,p=a3)\n",
    "\n",
    "    dW3 = 1/m*(a2.T).dot(dz3) #dW2 = 1/m*(a1.T).dot(dz2) \n",
    "    \n",
    "    dz2 = np.multiply(dz3.dot(W3.T) ,sigmoid_derivative(a2))\n",
    "    \n",
    "    dW2 = 1/m*np.dot(a1.T, dz2)\n",
    "    \n",
    "    \n",
    "    dz1 = np.multiply(dz2.dot(W2.T),sigmoid_derivative(a1))\n",
    "    \n",
    "    dW1 = 1/m*np.dot(a0.T,dz1)\n",
    "    \n",
    "    W1 += learning_rate * dW1\n",
    "    W2 += learning_rate * dW2\n",
    "    W3 += learning_rate * dW3\n",
    "    \n",
    "    return W3, W2, W1, loss"
   ]
  },
  {
   "cell_type": "code",
   "execution_count": 34,
   "metadata": {},
   "outputs": [],
   "source": [
    "def gradientDescent(X, y, X_test, y_test, learning_rate = 0.1): \n",
    "    weight0, weight1, weight2 = weight_initialiser(X_train, layer1_node, layer2_node, output_nodes=2)\n",
    "    error_list = [] \n",
    "    test_error_list = []\n",
    "    iterations = 1000\n",
    "    for itr in range(iterations):\n",
    "        layer_0, layer_1, layer_2, layer_3 = forward(X, weight0, weight1, weight2)\n",
    "        weight2,weight1, weight0, loss  = backward(weight0, weight1, weight2, layer_0, layer_1, layer_2, layer_3, y, learning_rate)\n",
    "#         print(itr, loss)\n",
    "        error_list.append(loss)\n",
    "        \n",
    "        test_layer_0 = X_test\n",
    "        test_layer_1 = sigmoid(np.dot(test_layer_0,weight0))\n",
    "        test_layer_2 = sigmoid(np.dot(test_layer_1,weight1))\n",
    "        test_layer_3 = softmax(np.dot(test_layer_2,weight2))\n",
    "        correct = 0\n",
    "        for i in range(len(test_layer_3)):\n",
    "            if(test_layer_3[i][0] > test_layer_3[i][1]):\n",
    "                test_layer_3[i][0] = 1\n",
    "                test_layer_3[i][1] = 0\n",
    "            else:\n",
    "                test_layer_3[i][0] = 0\n",
    "                test_layer_3[i][1] = 1\n",
    "#             print(test_layer_3[i], y_test[i])\n",
    "            if(test_layer_3[i][0] == y_test[i][0] and test_layer_3[i][1] == y_test[i][1]):\n",
    "                correct += 1\n",
    "        accuracy = correct * 100.0 / len(test_layer_3)\n",
    "        test_error_list.append((100-accuracy)/100)\n",
    "        \n",
    "    return weight0, weight1, weight2, error_list, test_error_list, accuracy "
   ]
  },
  {
   "cell_type": "code",
   "execution_count": 35,
   "metadata": {},
   "outputs": [],
   "source": [
    "weight0, weight1, weight2, error_list, test_error_list, accuracy  = gradientDescent(X, Y, X_test, Y_test, learning_rate = 0.1)"
   ]
  },
  {
   "cell_type": "markdown",
   "metadata": {},
   "source": [
    "## Train Error vs Epochs"
   ]
  },
  {
   "cell_type": "code",
   "execution_count": 36,
   "metadata": {},
   "outputs": [
    {
     "data": {
      "text/plain": [
       "[<matplotlib.lines.Line2D at 0x1a116eb7f0>]"
      ]
     },
     "execution_count": 36,
     "metadata": {},
     "output_type": "execute_result"
    },
    {
     "data": {
      "image/png": "[encoded data removed]",
      "text/plain": [
       "<Figure size 432x288 with 1 Axes>"
      ]
     },
     "metadata": {},
     "output_type": "display_data"
    }
   ],
   "source": [
    "epochs = []\n",
    "for i in range(0,1000):\n",
    "    epochs.append(i+1)\n",
    "plt.ylabel('Train Error')\n",
    "plt.xlabel('Epochs')\n",
    "plt.title(\"Train Error vs Epochs\")\n",
    "plt.grid(True)\n",
    "plt.ylim(0.001074196492636784 , 0.001032662810722979)\n",
    "plt.plot(epochs, error_list)"
   ]
  },
  {
   "cell_type": "markdown",
   "metadata": {},
   "source": [
    "## Test Error vs Epochs"
   ]
  },
  {
   "cell_type": "code",
   "execution_count": 37,
   "metadata": {},
   "outputs": [
    {
     "data": {
      "text/plain": [
       "[<matplotlib.lines.Line2D at 0x1a1177e390>]"
      ]
     },
     "execution_count": 37,
     "metadata": {},
     "output_type": "execute_result"
    },
    {
     "data": {
      "image/png": "[encoded data removed]",
      "text/plain": [
       "<Figure size 432x288 with 1 Axes>"
      ]
     },
     "metadata": {},
     "output_type": "display_data"
    }
   ],
   "source": [
    "epochs = []\n",
    "for i in range(0,1000):\n",
    "    epochs.append(i+1)\n",
    "plt.ylabel('Train Error')\n",
    "plt.xlabel('Epochs')\n",
    "plt.grid(True)\n",
    "plt.title(\"Test Error vs Epochs\")\n",
    "plt.plot(epochs, test_error_list)"
   ]
  },
  {
   "cell_type": "markdown",
   "metadata": {},
   "source": [
    "## Test Set"
   ]
  },
  {
   "cell_type": "code",
   "execution_count": 38,
   "metadata": {
    "scrolled": true
   },
   "outputs": [
    {
     "name": "stdout",
     "output_type": "stream",
     "text": [
      "total = 1115\n",
      "correct = 145\n",
      "accuracy =  13.004484304932735\n"
     ]
    }
   ],
   "source": [
    "test_layer_0 = X_test\n",
    "test_layer_1 = sigmoid(np.dot(test_layer_0,weight0))\n",
    "test_layer_2 = sigmoid(np.dot(test_layer_1,weight1))\n",
    "test_layer_3 = softmax(np.dot(test_layer_2,weight2))\n",
    "correct = 0\n",
    "for i in range(len(test_layer_3)):\n",
    "    if(test_layer_3[i][0] > test_layer_3[i][1]):\n",
    "        test_layer_3[i][0] = 1\n",
    "        test_layer_3[i][1] = 0\n",
    "    else:\n",
    "        test_layer_3[i][0] = 0\n",
    "        test_layer_3[i][1] = 1\n",
    "#             print(test_layer_3[i], y_test[i])\n",
    "    if(test_layer_3[i][0] == Y_test[i][0] and test_layer_3[i][1] == Y_test[i][1]):\n",
    "        correct += 1\n",
    "print('total =', len(test_layer_3))\n",
    "print('correct =', correct)\n",
    "print ('accuracy = ', correct * 100.0 / len(test_layer_3))"
   ]
  },
  {
   "cell_type": "code",
   "execution_count": null,
   "metadata": {},
   "outputs": [],
   "source": []
  }
 ],
 "metadata": {
  "kernelspec": {
   "display_name": "Python 3",
   "language": "python",
   "name": "python3"
  },
  "language_info": {
   "codemirror_mode": {
    "name": "ipython",
    "version": 3
   },
   "file_extension": ".py",
   "mimetype": "text/x-python",
   "name": "python",
   "nbconvert_exporter": "python",
   "pygments_lexer": "ipython3",
   "version": "3.6.5"
  }
 },
 "nbformat": 4,
 "nbformat_minor": 2
}
