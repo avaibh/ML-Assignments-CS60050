{
 "cells": [
  {
   "cell_type": "code",
   "execution_count": 1,
   "metadata": {},
   "outputs": [
    {
     "name": "stderr",
     "output_type": "stream",
     "text": [
      "/Applications/anaconda3/lib/python3.6/importlib/_bootstrap.py:219: RuntimeWarning: numpy.dtype size changed, may indicate binary incompatibility. Expected 96, got 88\n",
      "  return f(*args, **kwds)\n",
      "/Applications/anaconda3/lib/python3.6/importlib/_bootstrap.py:219: RuntimeWarning: numpy.dtype size changed, may indicate binary incompatibility. Expected 96, got 88\n",
      "  return f(*args, **kwds)\n"
     ]
    }
   ],
   "source": [
    "import numpy as np\n",
    "import pandas as pd\n",
    "import matplotlib.pyplot as plt\n",
    "%matplotlib inline\n",
    "import random"
   ]
  },
  {
   "cell_type": "code",
   "execution_count": 2,
   "metadata": {},
   "outputs": [],
   "source": [
    "train_df = pd.read_csv(\"train.csv\")\n",
    "test_df = pd.read_csv(\"test.csv\")\n",
    "train_df = train_df.rename(columns={\"profitable\": \"label\"})\n",
    "test_df = test_df.rename(columns={\"profitable\": \"label\"})"
   ]
  },
  {
   "cell_type": "code",
   "execution_count": 3,
   "metadata": {},
   "outputs": [
    {
     "data": {
      "text/plain": [
       "Index(['price', 'maintenance', 'capacity', 'airbag', 'label'], dtype='object')"
      ]
     },
     "execution_count": 3,
     "metadata": {},
     "output_type": "execute_result"
    }
   ],
   "source": [
    "features = train_df.columns\n",
    "sizeOfTrain = len(train_df)\n",
    "# train_df.head()\n",
    "features"
   ]
  },
  {
   "cell_type": "code",
   "execution_count": 4,
   "metadata": {},
   "outputs": [
    {
     "data": {
      "text/plain": [
       "array([['low', 'low', 2, 'no', 'yes'],\n",
       "       ['low', 'med', 4, 'yes', 'no'],\n",
       "       ['low', 'high', 4, 'no', 'no'],\n",
       "       ['med', 'med', 4, 'no', 'no'],\n",
       "       ['med', 'med', 4, 'yes', 'yes'],\n",
       "       ['med', 'high', 2, 'yes', 'no'],\n",
       "       ['high', 'med', 4, 'yes', 'yes'],\n",
       "       ['high', 'high', 2, 'yes', 'no'],\n",
       "       ['high', 'high', 5, 'yes', 'yes']], dtype=object)"
      ]
     },
     "execution_count": 4,
     "metadata": {},
     "output_type": "execute_result"
    }
   ],
   "source": [
    "data = train_df.values\n",
    "data"
   ]
  },
  {
   "cell_type": "code",
   "execution_count": 5,
   "metadata": {},
   "outputs": [],
   "source": [
    "def end_tree(data):\n",
    "    target_varaible = data[:, -1]\n",
    "    possible_splits = np.unique(target_varaible)\n",
    "    if len(possible_splits) == 1:\n",
    "        return True\n",
    "    else:\n",
    "        return False"
   ]
  },
  {
   "cell_type": "code",
   "execution_count": 6,
   "metadata": {},
   "outputs": [],
   "source": [
    "def class_prediction(data):    \n",
    "    target_varaible = data[:, -1]\n",
    "    possible_splits, count = np.unique(target_varaible, return_counts=True)\n",
    "    i = count.argmax() #Maximum number of target class is assigned as the predicted value\n",
    "    prediction = possible_splits[i] \n",
    "    return prediction"
   ]
  },
  {
   "cell_type": "code",
   "execution_count": 7,
   "metadata": {},
   "outputs": [],
   "source": [
    "def possibleSplits(data):\n",
    "    \n",
    "    potential_splits = {}\n",
    "    r, c = data.shape\n",
    "    \n",
    "    #Last column is the target variable. Thus iterating till penultimate column\n",
    "    for i in range(c - 1):          \n",
    "        values = data[:, i]\n",
    "        uniqueValues = np.unique(values)      \n",
    "        potential_splits[i] = uniqueValues\n",
    "    \n",
    "    return potential_splits"
   ]
  },
  {
   "cell_type": "code",
   "execution_count": 8,
   "metadata": {},
   "outputs": [],
   "source": [
    "def split_data(data, indexOfSplitColumn, split_value):\n",
    "    \n",
    "    split_column_values = data[:, indexOfSplitColumn]\n",
    "\n",
    "    dataLower = data[split_column_values == split_value]\n",
    "    dataGreater = data[split_column_values != split_value]\n",
    "    \n",
    "    return dataLower, dataGreater"
   ]
  },
  {
   "cell_type": "markdown",
   "metadata": {},
   "source": [
    "## Impurity (Information Gain & Gini Index)"
   ]
  },
  {
   "cell_type": "code",
   "execution_count": 9,
   "metadata": {},
   "outputs": [],
   "source": [
    "def calculate_impurity(data_L, data_G, impurity_measure):\n",
    "    \n",
    "    targetColumn_L = data_L[:, -1]\n",
    "    _, countOfUniqueV = np.unique(targetColumn_L, return_counts=True)\n",
    "    pi = countOfUniqueV / countOfUniqueV.sum()\n",
    "    entropy_1 = sum(-pi*np.log2(pi))\n",
    "    gini_1 = 1 - sum(pi**2)\n",
    "    \n",
    "    targetColumn_G = data_G[:, -1]\n",
    "    _, countOfUniqueV = np.unique(targetColumn_G, return_counts=True)\n",
    "    pi = countOfUniqueV / countOfUniqueV.sum()\n",
    "    entropy_2 = sum(-pi*np.log2(pi))\n",
    "    gini_2 = 1 - sum(pi**2)\n",
    "    \n",
    "    #To be used in for information gain based splitting\n",
    "    entropy =  (len(data_L) * entropy_1 + len(data_G) * entropy_2) / (len(data_L) + len(data_G))\n",
    "    \n",
    "    #To be used in for gini-index based splitting\n",
    "    gini =  (len(data_L) * gini_1 + len(data_G) * gini_2) / (len(data_L) + len(data_G))\n",
    "    \n",
    "    if impurity_measure == \"IG\":\n",
    "        return entropy\n",
    "    elif impurity_measure == \"GINI\":\n",
    "#         print(gini)\n",
    "        return gini\n",
    "    else: \n",
    "        print(\"Error encountered in impurity measure\\n\")\n",
    "        return -1"
   ]
  },
  {
   "cell_type": "code",
   "execution_count": 10,
   "metadata": {},
   "outputs": [],
   "source": [
    "def find_best_split_IG(data, potential_splits, entropy_parent):\n",
    "    \n",
    "    impurity_measure = \"IG\"\n",
    "    information_gain = -9999\n",
    "    for i in potential_splits:\n",
    "        for value in potential_splits[i]:\n",
    "            data_L, data_G = split_data(data, i, value)\n",
    "            entropy = calculate_impurity(data_L, data_G, impurity_measure)\n",
    "            current_information_gain = entropy_parent - entropy\n",
    "            \n",
    "            if current_information_gain > information_gain:\n",
    "                information_gain = current_information_gain\n",
    "                split_feature_index = i\n",
    "                split_feature_value = value\n",
    "                entropy_new_parent = entropy\n",
    "    \n",
    "    return split_feature_index, split_feature_value, entropy_new_parent"
   ]
  },
  {
   "cell_type": "code",
   "execution_count": 11,
   "metadata": {},
   "outputs": [],
   "source": [
    "def find_best_split_GINI(data, potential_splits):\n",
    "    \n",
    "    impurity_measure = \"GINI\"\n",
    "    gini_index = 9999\n",
    "    for i in potential_splits:\n",
    "        for value in potential_splits[i]:\n",
    "            data_L, data_G = split_data(data, i, value)\n",
    "            current_gini_index = calculate_impurity(data_L, data_G, impurity_measure)\n",
    "            \n",
    "            if current_gini_index < gini_index:\n",
    "                gini_index = current_gini_index\n",
    "                split_feature_index = i\n",
    "                split_feature_value = value\n",
    "    \n",
    "    return split_feature_index, split_feature_value"
   ]
  },
  {
   "cell_type": "markdown",
   "metadata": {},
   "source": [
    "## Decision Tree Classifier built from Scratch"
   ]
  },
  {
   "cell_type": "code",
   "execution_count": 12,
   "metadata": {},
   "outputs": [],
   "source": [
    "def DecisionTree(data, impurity_measure, entropy_parent = 0):\n",
    "    if (end_tree(data)):\n",
    "        predcition = class_prediction(data)\n",
    "        return predcition\n",
    "    else:    \n",
    "        potential_splits = possibleSplits(data)\n",
    "        \n",
    "        if impurity_measure == \"IG\":\n",
    "            split_column, split_value, entropy_parent = find_best_split_IG(data, potential_splits, entropy_parent)\n",
    "        elif impurity_measure == \"GINI\":\n",
    "            split_column, split_value = find_best_split_GINI(data, potential_splits)\n",
    "        else: \n",
    "            print(\"Error encountered in impurity measure\\n\")\n",
    "            return -1    \n",
    "        \n",
    "        data_below, data_above = split_data(data, split_column, split_value)\n",
    "\n",
    "        if len(data_below) == 0 or len(data_above) == 0:\n",
    "            predcition = class_prediction(data)\n",
    "            return predcition\n",
    "        feature_name = features[split_column]\n",
    "\n",
    "        question = \"{} = {}\".format(feature_name, split_value)\n",
    "\n",
    "        # Dictionary definition of sub-tree\n",
    "        sub_tree = {question: []}\n",
    "        \n",
    "        yes_answer = DecisionTree(data_below, impurity_measure, entropy_parent)\n",
    "        no_answer = DecisionTree(data_above, impurity_measure, entropy_parent)\n",
    "\n",
    "        if yes_answer == no_answer:\n",
    "            sub_tree = yes_answer\n",
    "        else:\n",
    "            sub_tree[question].append(yes_answer)\n",
    "            sub_tree[question].append(no_answer)\n",
    "        return sub_tree"
   ]
  },
  {
   "cell_type": "markdown",
   "metadata": {},
   "source": [
    "## Print tree"
   ]
  },
  {
   "cell_type": "code",
   "execution_count": 13,
   "metadata": {},
   "outputs": [],
   "source": [
    "def print_indent(n):\n",
    "    temp = n\n",
    "    if temp >= 1:\n",
    "        print(\"\\n\", end = '')\n",
    "    while n > 1:\n",
    "        print(\"    \",end = '')\n",
    "        n = n-1\n",
    "    if temp >= 1:\n",
    "        print(\"|\", end = '')\n",
    "    return\n",
    "\n",
    "def print_tree(tree, counter = 0):\n",
    "    \n",
    "    if not isinstance(tree, dict):\n",
    "        print(\" : \", tree,end='')\n",
    "    else:\n",
    "            \n",
    "        question = list(tree.keys())[0]\n",
    "        feature_name, comparison_operator, value = question.split(\" \")\n",
    "        print_indent(counter)\n",
    "        print(feature_name, \" = \", value, end = '')\n",
    "        left_sub_tree = tree[question][0]\n",
    "        print_tree(left_sub_tree,counter)\n",
    "        print_indent(counter)\n",
    "        print(feature_name, \" != \", value, end = '')\n",
    "        right_sub_tree = tree[question][1]\n",
    "        counter = counter + 1\n",
    "        print_tree(right_sub_tree,counter)"
   ]
  },
  {
   "cell_type": "markdown",
   "metadata": {},
   "source": [
    "## Model performance through Information Gain and Gini Index"
   ]
  },
  {
   "cell_type": "code",
   "execution_count": 14,
   "metadata": {},
   "outputs": [],
   "source": [
    "def classify_example(example, tree):\n",
    "    question = list(tree.keys())[0]\n",
    "    feature_name, comparison_operator, value = question.split(\" \")\n",
    "    if str(example[feature_name]) == value:\n",
    "        answer = tree[question][0]\n",
    "    else:\n",
    "        answer = tree[question][1]\n",
    "\n",
    "    # base case\n",
    "    if not isinstance(answer, dict):\n",
    "        return answer\n",
    "\n",
    "    # recursive part\n",
    "    else:\n",
    "        residual_tree = answer\n",
    "        return classify_example(example, residual_tree)"
   ]
  },
  {
   "cell_type": "code",
   "execution_count": 15,
   "metadata": {},
   "outputs": [],
   "source": [
    "def calculate_accuracy(df, tree):\n",
    "\n",
    "    df[\"classification\"] = df.apply(classify_example, args=(tree,), axis=1)\n",
    "    df[\"classification_correct\"] = df[\"classification\"] == df[\"label\"]\n",
    "    \n",
    "    accuracy = df[\"classification_correct\"].mean()\n",
    "    \n",
    "    return accuracy"
   ]
  },
  {
   "cell_type": "markdown",
   "metadata": {},
   "source": [
    "### Information Gain"
   ]
  },
  {
   "cell_type": "code",
   "execution_count": 16,
   "metadata": {},
   "outputs": [],
   "source": [
    "tree_IG = DecisionTree(data, 'IG')"
   ]
  },
  {
   "cell_type": "code",
   "execution_count": 41,
   "metadata": {},
   "outputs": [
    {
     "name": "stdout",
     "output_type": "stream",
     "text": [
      "0.5\n"
     ]
    },
    {
     "data": {
      "text/html": [
       "<div>\n",
       "<style scoped>\n",
       "    .dataframe tbody tr th:only-of-type {\n",
       "        vertical-align: middle;\n",
       "    }\n",
       "\n",
       "    .dataframe tbody tr th {\n",
       "        vertical-align: top;\n",
       "    }\n",
       "\n",
       "    .dataframe thead th {\n",
       "        text-align: right;\n",
       "    }\n",
       "</style>\n",
       "<table border=\"1\" class=\"dataframe\">\n",
       "  <thead>\n",
       "    <tr style=\"text-align: right;\">\n",
       "      <th></th>\n",
       "      <th>price</th>\n",
       "      <th>maintenance</th>\n",
       "      <th>capacity</th>\n",
       "      <th>airbag</th>\n",
       "      <th>label</th>\n",
       "      <th>classification</th>\n",
       "      <th>classification_correct</th>\n",
       "    </tr>\n",
       "  </thead>\n",
       "  <tbody>\n",
       "    <tr>\n",
       "      <th>0</th>\n",
       "      <td>med</td>\n",
       "      <td>high</td>\n",
       "      <td>5</td>\n",
       "      <td>no</td>\n",
       "      <td>yes</td>\n",
       "      <td>no</td>\n",
       "      <td>False</td>\n",
       "    </tr>\n",
       "    <tr>\n",
       "      <th>1</th>\n",
       "      <td>low</td>\n",
       "      <td>low</td>\n",
       "      <td>4</td>\n",
       "      <td>no</td>\n",
       "      <td>yes</td>\n",
       "      <td>yes</td>\n",
       "      <td>True</td>\n",
       "    </tr>\n",
       "  </tbody>\n",
       "</table>\n",
       "</div>"
      ],
      "text/plain": [
       "  price maintenance  capacity airbag label classification  \\\n",
       "0   med        high         5     no   yes             no   \n",
       "1   low         low         4     no   yes            yes   \n",
       "\n",
       "   classification_correct  \n",
       "0                   False  \n",
       "1                    True  "
      ]
     },
     "execution_count": 41,
     "metadata": {},
     "output_type": "execute_result"
    }
   ],
   "source": [
    "test_df = pd.read_csv(\"test.csv\")\n",
    "test_df = test_df.rename(columns={\"profitable\": \"label\"})\n",
    "accuracy = calculate_accuracy(test_df, tree_IG)\n",
    "print(accuracy)\n",
    "test_df"
   ]
  },
  {
   "cell_type": "code",
   "execution_count": 18,
   "metadata": {},
   "outputs": [
    {
     "name": "stdout",
     "output_type": "stream",
     "text": [
      "maintenance  =  low :  yesmaintenance  !=  low\n",
      "|price  =  low :  no\n",
      "|price  !=  low\n",
      "    |capacity  =  2 :  no\n",
      "    |capacity  !=  2\n",
      "        |airbag  =  no :  no\n",
      "        |airbag  !=  no :  yes"
     ]
    }
   ],
   "source": [
    "print_tree(tree_IG)"
   ]
  },
  {
   "cell_type": "markdown",
   "metadata": {},
   "source": [
    "### Gini Index"
   ]
  },
  {
   "cell_type": "code",
   "execution_count": 19,
   "metadata": {},
   "outputs": [],
   "source": [
    "tree_gini = DecisionTree(data, \"GINI\")"
   ]
  },
  {
   "cell_type": "code",
   "execution_count": 40,
   "metadata": {},
   "outputs": [
    {
     "name": "stdout",
     "output_type": "stream",
     "text": [
      "1.0\n"
     ]
    },
    {
     "data": {
      "text/html": [
       "<div>\n",
       "<style scoped>\n",
       "    .dataframe tbody tr th:only-of-type {\n",
       "        vertical-align: middle;\n",
       "    }\n",
       "\n",
       "    .dataframe tbody tr th {\n",
       "        vertical-align: top;\n",
       "    }\n",
       "\n",
       "    .dataframe thead th {\n",
       "        text-align: right;\n",
       "    }\n",
       "</style>\n",
       "<table border=\"1\" class=\"dataframe\">\n",
       "  <thead>\n",
       "    <tr style=\"text-align: right;\">\n",
       "      <th></th>\n",
       "      <th>price</th>\n",
       "      <th>maintenance</th>\n",
       "      <th>capacity</th>\n",
       "      <th>airbag</th>\n",
       "      <th>label</th>\n",
       "      <th>classification</th>\n",
       "      <th>classification_correct</th>\n",
       "    </tr>\n",
       "  </thead>\n",
       "  <tbody>\n",
       "    <tr>\n",
       "      <th>0</th>\n",
       "      <td>med</td>\n",
       "      <td>high</td>\n",
       "      <td>5</td>\n",
       "      <td>no</td>\n",
       "      <td>yes</td>\n",
       "      <td>yes</td>\n",
       "      <td>True</td>\n",
       "    </tr>\n",
       "    <tr>\n",
       "      <th>1</th>\n",
       "      <td>low</td>\n",
       "      <td>low</td>\n",
       "      <td>4</td>\n",
       "      <td>no</td>\n",
       "      <td>yes</td>\n",
       "      <td>yes</td>\n",
       "      <td>True</td>\n",
       "    </tr>\n",
       "  </tbody>\n",
       "</table>\n",
       "</div>"
      ],
      "text/plain": [
       "  price maintenance  capacity airbag label classification  \\\n",
       "0   med        high         5     no   yes            yes   \n",
       "1   low         low         4     no   yes            yes   \n",
       "\n",
       "   classification_correct  \n",
       "0                    True  \n",
       "1                    True  "
      ]
     },
     "execution_count": 40,
     "metadata": {},
     "output_type": "execute_result"
    }
   ],
   "source": [
    "test_df = pd.read_csv(\"test.csv\")\n",
    "test_df = test_df.rename(columns={\"profitable\": \"label\"})\n",
    "accuracy = calculate_accuracy(test_df, tree_gini)\n",
    "print(accuracy)\n",
    "test_df"
   ]
  },
  {
   "cell_type": "code",
   "execution_count": 21,
   "metadata": {},
   "outputs": [
    {
     "name": "stdout",
     "output_type": "stream",
     "text": [
      "maintenance  =  low :  yesmaintenance  !=  low\n",
      "|capacity  =  5 :  yes\n",
      "|capacity  !=  5\n",
      "    |maintenance  =  high :  no\n",
      "    |maintenance  !=  high\n",
      "        |price  =  high :  yes\n",
      "        |price  !=  high\n",
      "            |price  =  low :  no\n",
      "            |price  !=  low\n",
      "                |airbag  =  no :  no\n",
      "                |airbag  !=  no :  yes"
     ]
    }
   ],
   "source": [
    "print_tree(tree_gini)"
   ]
  },
  {
   "cell_type": "markdown",
   "metadata": {},
   "source": [
    "## Impurity value of the rood node"
   ]
  },
  {
   "cell_type": "markdown",
   "metadata": {},
   "source": [
    "### Information Gain "
   ]
  },
  {
   "cell_type": "code",
   "execution_count": 22,
   "metadata": {},
   "outputs": [
    {
     "data": {
      "text/plain": [
       "0.8483857803777467"
      ]
     },
     "execution_count": 22,
     "metadata": {},
     "output_type": "execute_result"
    }
   ],
   "source": [
    "_,_,rootNode_IG = find_best_split_IG(data, possibleSplits(data), 0)\n",
    "rootNode_IG"
   ]
  },
  {
   "cell_type": "markdown",
   "metadata": {},
   "source": [
    "The root node \"INFORMATION GAIN\" = 0.8484"
   ]
  },
  {
   "cell_type": "markdown",
   "metadata": {},
   "source": [
    "### Gini Index"
   ]
  },
  {
   "cell_type": "code",
   "execution_count": 23,
   "metadata": {},
   "outputs": [],
   "source": [
    "def root_GINI(data, potential_splits):\n",
    "    impurity_measure = \"GINI\"\n",
    "    gini_index = 9999\n",
    "    for i in potential_splits:\n",
    "        for value in potential_splits[i]:\n",
    "            data_L, data_G = split_data(data, i, value)\n",
    "            current_gini_index = calculate_impurity(data_L, data_G, impurity_measure)\n",
    "            \n",
    "            if current_gini_index < gini_index:\n",
    "                gini_index = current_gini_index\n",
    "    \n",
    "    return gini_index"
   ]
  },
  {
   "cell_type": "code",
   "execution_count": 24,
   "metadata": {},
   "outputs": [
    {
     "data": {
      "text/plain": [
       "0.4166666666666667"
      ]
     },
     "execution_count": 24,
     "metadata": {},
     "output_type": "execute_result"
    }
   ],
   "source": [
    "rootNode_gini = root_GINI(data, possibleSplits(data))\n",
    "rootNode_gini"
   ]
  },
  {
   "cell_type": "markdown",
   "metadata": {},
   "source": [
    "The root node \"GINI INDEX\" = 0.4167"
   ]
  },
  {
   "cell_type": "markdown",
   "metadata": {},
   "source": [
    "# Scikit Learn Model"
   ]
  },
  {
   "cell_type": "code",
   "execution_count": 25,
   "metadata": {},
   "outputs": [
    {
     "name": "stderr",
     "output_type": "stream",
     "text": [
      "/Applications/anaconda3/lib/python3.6/importlib/_bootstrap.py:219: RuntimeWarning: numpy.dtype size changed, may indicate binary incompatibility. Expected 96, got 88\n",
      "  return f(*args, **kwds)\n",
      "/Applications/anaconda3/lib/python3.6/importlib/_bootstrap.py:219: RuntimeWarning: numpy.dtype size changed, may indicate binary incompatibility. Expected 96, got 88\n",
      "  return f(*args, **kwds)\n",
      "/Applications/anaconda3/lib/python3.6/importlib/_bootstrap.py:219: RuntimeWarning: numpy.dtype size changed, may indicate binary incompatibility. Expected 96, got 88\n",
      "  return f(*args, **kwds)\n",
      "/Applications/anaconda3/lib/python3.6/importlib/_bootstrap.py:219: RuntimeWarning: numpy.dtype size changed, may indicate binary incompatibility. Expected 96, got 88\n",
      "  return f(*args, **kwds)\n"
     ]
    }
   ],
   "source": [
    "from sklearn import tree\n",
    "from sklearn.datasets import load_iris\n",
    "from sklearn.model_selection import cross_val_score\n",
    "from sklearn.metrics import confusion_matrix"
   ]
  },
  {
   "cell_type": "code",
   "execution_count": 26,
   "metadata": {},
   "outputs": [],
   "source": [
    "def sum_cm(input):\n",
    "    sum1 = 0\n",
    "    for row in range (len(input)):\n",
    "        for col in range(len(input[0])):\n",
    "            sum1 = sum1 + input[row][col]\n",
    "    return sum1\n",
    "def diasum_cm(input):\n",
    "    sum = 0\n",
    "    for row in range(len(input)):\n",
    "        sum = sum + input[row][row]\n",
    "    return sum\n",
    "def conf_accuracy_cm(input):\n",
    "    return diasum_cm(input)/sum_cm(input)"
   ]
  },
  {
   "cell_type": "code",
   "execution_count": 27,
   "metadata": {},
   "outputs": [],
   "source": [
    "train_df = pd.read_csv(\"train.csv\")\n",
    "test_df = pd.read_csv(\"test.csv\")\n",
    "train_df = train_df.rename(columns={\"profitable\": \"label\"})\n",
    "test_df = test_df.rename(columns={\"profitable\": \"label\"})"
   ]
  },
  {
   "cell_type": "code",
   "execution_count": 28,
   "metadata": {},
   "outputs": [],
   "source": [
    "train_df.loc[train_df[\"label\"]=='yes',\"label\"] = 1\n",
    "train_df.loc[train_df[\"label\"]=='no',\"label\"] = 0\n",
    "train_df.loc[train_df[\"price\"]=='high',\"price\"] = 2\n",
    "train_df.loc[train_df[\"price\"]=='med',\"price\"] = 1\n",
    "train_df.loc[train_df[\"price\"]=='low',\"price\"] = 0\n",
    "train_df.loc[train_df[\"maintenance\"]=='high',\"maintenance\"] = 2\n",
    "train_df.loc[train_df[\"maintenance\"]=='med',\"maintenance\"] = 1\n",
    "train_df.loc[train_df[\"maintenance\"]=='low',\"maintenance\"] = 0\n",
    "train_df.loc[train_df[\"airbag\"]=='yes',\"airbag\"] = 1\n",
    "train_df.loc[train_df[\"airbag\"]=='no',\"airbag\"] = 0\n",
    "X_train = train_df.iloc[:,[0,1,2,3]].values\n",
    "Y_train = train_df.iloc[:,[4]].values"
   ]
  },
  {
   "cell_type": "code",
   "execution_count": 29,
   "metadata": {},
   "outputs": [],
   "source": [
    "test_df.loc[test_df[\"label\"]=='yes',\"label\"] = 1\n",
    "test_df.loc[test_df[\"price\"]=='med',\"price\"] = 1\n",
    "test_df.loc[test_df[\"price\"]=='low',\"price\"] = 0\n",
    "test_df.loc[test_df[\"maintenance\"]=='high',\"maintenance\"] = 2\n",
    "test_df.loc[test_df[\"maintenance\"]=='low',\"maintenance\"] = 0\n",
    "test_df.loc[test_df[\"airbag\"]=='no',\"airbag\"] = 0\n",
    "X_test = test_df.iloc[:,[0,1,2,3]].values\n",
    "Y_test = test_df.iloc[:,[4]].values"
   ]
  },
  {
   "cell_type": "markdown",
   "metadata": {},
   "source": [
    "### Information Gain"
   ]
  },
  {
   "cell_type": "code",
   "execution_count": 30,
   "metadata": {},
   "outputs": [
    {
     "data": {
      "text/plain": [
       "DecisionTreeClassifier(class_weight=None, criterion='entropy', max_depth=None,\n",
       "            max_features=None, max_leaf_nodes=None,\n",
       "            min_impurity_decrease=0.0, min_impurity_split=None,\n",
       "            min_samples_leaf=1, min_samples_split=2,\n",
       "            min_weight_fraction_leaf=0.0, presort=False, random_state=None,\n",
       "            splitter='best')"
      ]
     },
     "execution_count": 30,
     "metadata": {},
     "output_type": "execute_result"
    }
   ],
   "source": [
    "classifier_IG = tree.DecisionTreeClassifier(criterion='entropy')\n",
    "classifier_IG.fit(X_train,Y_train)"
   ]
  },
  {
   "cell_type": "code",
   "execution_count": 31,
   "metadata": {},
   "outputs": [
    {
     "name": "stdout",
     "output_type": "stream",
     "text": [
      "0.5555555555555555\n",
      "0.0785674201318386\n"
     ]
    }
   ],
   "source": [
    "accuracies = cross_val_score(estimator=classifier_IG, X=X_train, y=Y_train)\n",
    "print(accuracies.mean())\n",
    "print(accuracies.std())"
   ]
  },
  {
   "cell_type": "code",
   "execution_count": 32,
   "metadata": {},
   "outputs": [],
   "source": [
    "ypred_test_IG = classifier_IG.predict(X_test)"
   ]
  },
  {
   "cell_type": "code",
   "execution_count": 45,
   "metadata": {},
   "outputs": [
    {
     "data": {
      "text/plain": [
       "0.5"
      ]
     },
     "execution_count": 45,
     "metadata": {},
     "output_type": "execute_result"
    }
   ],
   "source": [
    "cm_IG = confusion_matrix(Y_test, ypred_test_IG)\n",
    "conf_accuracy_cm(cm_IG)\n"
   ]
  },
  {
   "cell_type": "code",
   "execution_count": 34,
   "metadata": {},
   "outputs": [
    {
     "data": {
      "image/svg+xml": [
       "<?xml version=\"1.0\" encoding=\"UTF-8\" standalone=\"no\"?>\n",
       "<!DOCTYPE svg PUBLIC \"-//W3C//DTD SVG 1.1//EN\"\n",
       " \"http://www.w3.org/Graphics/SVG/1.1/DTD/svg11.dtd\">\n",
       "<!-- Generated by graphviz version 2.40.1 (20161225.0304)\n",
       " -->\n",
       "<!-- Title: Tree Pages: 1 -->\n",
       "<svg width=\"384pt\" height=\"458pt\"\n",
       " viewBox=\"0.00 0.00 383.54 458.00\" xmlns=\"http://www.w3.org/2000/svg\" xmlns:xlink=\"http://www.w3.org/1999/xlink\">\n",
       "<g id=\"graph0\" class=\"graph\" transform=\"scale(1 1) rotate(0) translate(4 454)\">\n",
       "<title>Tree</title>\n",
       "<polygon fill=\"#ffffff\" stroke=\"transparent\" points=\"-4,4 -4,-454 379.5371,-454 379.5371,4 -4,4\"/>\n",
       "<!-- 0 -->\n",
       "<g id=\"node1\" class=\"node\">\n",
       "<title>0</title>\n",
       "<polygon fill=\"none\" stroke=\"#000000\" points=\"156.4298,-450 51.1073,-450 51.1073,-386 156.4298,-386 156.4298,-450\"/>\n",
       "<text text-anchor=\"middle\" x=\"103.7686\" y=\"-434.8\" font-family=\"Times,serif\" font-size=\"14.00\" fill=\"#000000\">X[1] &lt;= 0.5</text>\n",
       "<text text-anchor=\"middle\" x=\"103.7686\" y=\"-420.8\" font-family=\"Times,serif\" font-size=\"14.00\" fill=\"#000000\">entropy = 0.991</text>\n",
       "<text text-anchor=\"middle\" x=\"103.7686\" y=\"-406.8\" font-family=\"Times,serif\" font-size=\"14.00\" fill=\"#000000\">samples = 9</text>\n",
       "<text text-anchor=\"middle\" x=\"103.7686\" y=\"-392.8\" font-family=\"Times,serif\" font-size=\"14.00\" fill=\"#000000\">value = [5, 4]</text>\n",
       "</g>\n",
       "<!-- 1 -->\n",
       "<g id=\"node2\" class=\"node\">\n",
       "<title>1</title>\n",
       "<polygon fill=\"none\" stroke=\"#000000\" points=\"91.3068,-343 .2303,-343 .2303,-293 91.3068,-293 91.3068,-343\"/>\n",
       "<text text-anchor=\"middle\" x=\"45.7686\" y=\"-327.8\" font-family=\"Times,serif\" font-size=\"14.00\" fill=\"#000000\">entropy = 0.0</text>\n",
       "<text text-anchor=\"middle\" x=\"45.7686\" y=\"-313.8\" font-family=\"Times,serif\" font-size=\"14.00\" fill=\"#000000\">samples = 1</text>\n",
       "<text text-anchor=\"middle\" x=\"45.7686\" y=\"-299.8\" font-family=\"Times,serif\" font-size=\"14.00\" fill=\"#000000\">value = [0, 1]</text>\n",
       "</g>\n",
       "<!-- 0&#45;&gt;1 -->\n",
       "<g id=\"edge1\" class=\"edge\">\n",
       "<title>0&#45;&gt;1</title>\n",
       "<path fill=\"none\" stroke=\"#000000\" d=\"M85.0977,-385.8089C78.8368,-375.0142 71.837,-362.9456 65.4977,-352.0158\"/>\n",
       "<polygon fill=\"#000000\" stroke=\"#000000\" points=\"68.4036,-350.0498 60.3588,-343.1555 62.3484,-353.5619 68.4036,-350.0498\"/>\n",
       "<text text-anchor=\"middle\" x=\"53.9362\" y=\"-363.1165\" font-family=\"Times,serif\" font-size=\"14.00\" fill=\"#000000\">True</text>\n",
       "</g>\n",
       "<!-- 2 -->\n",
       "<g id=\"node3\" class=\"node\">\n",
       "<title>2</title>\n",
       "<polygon fill=\"none\" stroke=\"#000000\" points=\"214.4298,-350 109.1073,-350 109.1073,-286 214.4298,-286 214.4298,-350\"/>\n",
       "<text text-anchor=\"middle\" x=\"161.7686\" y=\"-334.8\" font-family=\"Times,serif\" font-size=\"14.00\" fill=\"#000000\">X[2] &lt;= 3.0</text>\n",
       "<text text-anchor=\"middle\" x=\"161.7686\" y=\"-320.8\" font-family=\"Times,serif\" font-size=\"14.00\" fill=\"#000000\">entropy = 0.954</text>\n",
       "<text text-anchor=\"middle\" x=\"161.7686\" y=\"-306.8\" font-family=\"Times,serif\" font-size=\"14.00\" fill=\"#000000\">samples = 8</text>\n",
       "<text text-anchor=\"middle\" x=\"161.7686\" y=\"-292.8\" font-family=\"Times,serif\" font-size=\"14.00\" fill=\"#000000\">value = [5, 3]</text>\n",
       "</g>\n",
       "<!-- 0&#45;&gt;2 -->\n",
       "<g id=\"edge2\" class=\"edge\">\n",
       "<title>0&#45;&gt;2</title>\n",
       "<path fill=\"none\" stroke=\"#000000\" d=\"M122.4394,-385.8089C127.4067,-377.2445 132.8392,-367.8782 138.0379,-358.915\"/>\n",
       "<polygon fill=\"#000000\" stroke=\"#000000\" points=\"141.1431,-360.5371 143.1327,-350.1308 135.0879,-357.0251 141.1431,-360.5371\"/>\n",
       "<text text-anchor=\"middle\" x=\"149.5552\" y=\"-370.0917\" font-family=\"Times,serif\" font-size=\"14.00\" fill=\"#000000\">False</text>\n",
       "</g>\n",
       "<!-- 3 -->\n",
       "<g id=\"node4\" class=\"node\">\n",
       "<title>3</title>\n",
       "<polygon fill=\"none\" stroke=\"#000000\" points=\"152.3068,-243 61.2303,-243 61.2303,-193 152.3068,-193 152.3068,-243\"/>\n",
       "<text text-anchor=\"middle\" x=\"106.7686\" y=\"-227.8\" font-family=\"Times,serif\" font-size=\"14.00\" fill=\"#000000\">entropy = 0.0</text>\n",
       "<text text-anchor=\"middle\" x=\"106.7686\" y=\"-213.8\" font-family=\"Times,serif\" font-size=\"14.00\" fill=\"#000000\">samples = 2</text>\n",
       "<text text-anchor=\"middle\" x=\"106.7686\" y=\"-199.8\" font-family=\"Times,serif\" font-size=\"14.00\" fill=\"#000000\">value = [2, 0]</text>\n",
       "</g>\n",
       "<!-- 2&#45;&gt;3 -->\n",
       "<g id=\"edge3\" class=\"edge\">\n",
       "<title>2&#45;&gt;3</title>\n",
       "<path fill=\"none\" stroke=\"#000000\" d=\"M144.0635,-285.8089C138.1264,-275.0142 131.4886,-262.9456 125.4772,-252.0158\"/>\n",
       "<polygon fill=\"#000000\" stroke=\"#000000\" points=\"128.4901,-250.231 120.6041,-243.1555 122.3566,-253.6044 128.4901,-250.231\"/>\n",
       "</g>\n",
       "<!-- 4 -->\n",
       "<g id=\"node5\" class=\"node\">\n",
       "<title>4</title>\n",
       "<polygon fill=\"none\" stroke=\"#000000\" points=\"262.3068,-250 171.2303,-250 171.2303,-186 262.3068,-186 262.3068,-250\"/>\n",
       "<text text-anchor=\"middle\" x=\"216.7686\" y=\"-234.8\" font-family=\"Times,serif\" font-size=\"14.00\" fill=\"#000000\">X[3] &lt;= 0.5</text>\n",
       "<text text-anchor=\"middle\" x=\"216.7686\" y=\"-220.8\" font-family=\"Times,serif\" font-size=\"14.00\" fill=\"#000000\">entropy = 1.0</text>\n",
       "<text text-anchor=\"middle\" x=\"216.7686\" y=\"-206.8\" font-family=\"Times,serif\" font-size=\"14.00\" fill=\"#000000\">samples = 6</text>\n",
       "<text text-anchor=\"middle\" x=\"216.7686\" y=\"-192.8\" font-family=\"Times,serif\" font-size=\"14.00\" fill=\"#000000\">value = [3, 3]</text>\n",
       "</g>\n",
       "<!-- 2&#45;&gt;4 -->\n",
       "<g id=\"edge4\" class=\"edge\">\n",
       "<title>2&#45;&gt;4</title>\n",
       "<path fill=\"none\" stroke=\"#000000\" d=\"M179.4736,-285.8089C184.1841,-277.2445 189.3355,-267.8782 194.2653,-258.915\"/>\n",
       "<polygon fill=\"#000000\" stroke=\"#000000\" points=\"197.3442,-260.5797 199.0966,-250.1308 191.2106,-257.2062 197.3442,-260.5797\"/>\n",
       "</g>\n",
       "<!-- 5 -->\n",
       "<g id=\"node6\" class=\"node\">\n",
       "<title>5</title>\n",
       "<polygon fill=\"none\" stroke=\"#000000\" points=\"204.3068,-143 113.2303,-143 113.2303,-93 204.3068,-93 204.3068,-143\"/>\n",
       "<text text-anchor=\"middle\" x=\"158.7686\" y=\"-127.8\" font-family=\"Times,serif\" font-size=\"14.00\" fill=\"#000000\">entropy = 0.0</text>\n",
       "<text text-anchor=\"middle\" x=\"158.7686\" y=\"-113.8\" font-family=\"Times,serif\" font-size=\"14.00\" fill=\"#000000\">samples = 2</text>\n",
       "<text text-anchor=\"middle\" x=\"158.7686\" y=\"-99.8\" font-family=\"Times,serif\" font-size=\"14.00\" fill=\"#000000\">value = [2, 0]</text>\n",
       "</g>\n",
       "<!-- 4&#45;&gt;5 -->\n",
       "<g id=\"edge5\" class=\"edge\">\n",
       "<title>4&#45;&gt;5</title>\n",
       "<path fill=\"none\" stroke=\"#000000\" d=\"M198.0977,-185.8089C191.8368,-175.0142 184.837,-162.9456 178.4977,-152.0158\"/>\n",
       "<polygon fill=\"#000000\" stroke=\"#000000\" points=\"181.4036,-150.0498 173.3588,-143.1555 175.3484,-153.5619 181.4036,-150.0498\"/>\n",
       "</g>\n",
       "<!-- 6 -->\n",
       "<g id=\"node7\" class=\"node\">\n",
       "<title>6</title>\n",
       "<polygon fill=\"none\" stroke=\"#000000\" points=\"326.9176,-150 222.6195,-150 222.6195,-86 326.9176,-86 326.9176,-150\"/>\n",
       "<text text-anchor=\"middle\" x=\"274.7686\" y=\"-134.8\" font-family=\"Times,serif\" font-size=\"14.00\" fill=\"#000000\">X[0] &lt;= 0.5</text>\n",
       "<text text-anchor=\"middle\" x=\"274.7686\" y=\"-120.8\" font-family=\"Times,serif\" font-size=\"14.00\" fill=\"#000000\">entropy = 0.811</text>\n",
       "<text text-anchor=\"middle\" x=\"274.7686\" y=\"-106.8\" font-family=\"Times,serif\" font-size=\"14.00\" fill=\"#000000\">samples = 4</text>\n",
       "<text text-anchor=\"middle\" x=\"274.7686\" y=\"-92.8\" font-family=\"Times,serif\" font-size=\"14.00\" fill=\"#000000\">value = [1, 3]</text>\n",
       "</g>\n",
       "<!-- 4&#45;&gt;6 -->\n",
       "<g id=\"edge6\" class=\"edge\">\n",
       "<title>4&#45;&gt;6</title>\n",
       "<path fill=\"none\" stroke=\"#000000\" d=\"M235.4394,-185.8089C240.4067,-177.2445 245.8392,-167.8782 251.0379,-158.915\"/>\n",
       "<polygon fill=\"#000000\" stroke=\"#000000\" points=\"254.1431,-160.5371 256.1327,-150.1308 248.0879,-157.0251 254.1431,-160.5371\"/>\n",
       "</g>\n",
       "<!-- 7 -->\n",
       "<g id=\"node8\" class=\"node\">\n",
       "<title>7</title>\n",
       "<polygon fill=\"none\" stroke=\"#000000\" points=\"265.3068,-50 174.2303,-50 174.2303,0 265.3068,0 265.3068,-50\"/>\n",
       "<text text-anchor=\"middle\" x=\"219.7686\" y=\"-34.8\" font-family=\"Times,serif\" font-size=\"14.00\" fill=\"#000000\">entropy = 0.0</text>\n",
       "<text text-anchor=\"middle\" x=\"219.7686\" y=\"-20.8\" font-family=\"Times,serif\" font-size=\"14.00\" fill=\"#000000\">samples = 1</text>\n",
       "<text text-anchor=\"middle\" x=\"219.7686\" y=\"-6.8\" font-family=\"Times,serif\" font-size=\"14.00\" fill=\"#000000\">value = [1, 0]</text>\n",
       "</g>\n",
       "<!-- 6&#45;&gt;7 -->\n",
       "<g id=\"edge7\" class=\"edge\">\n",
       "<title>6&#45;&gt;7</title>\n",
       "<path fill=\"none\" stroke=\"#000000\" d=\"M255.8407,-85.9947C250.6204,-77.1676 244.9421,-67.5662 239.6686,-58.6491\"/>\n",
       "<polygon fill=\"#000000\" stroke=\"#000000\" points=\"242.6649,-56.8398 234.5618,-50.014 236.6397,-60.4031 242.6649,-56.8398\"/>\n",
       "</g>\n",
       "<!-- 8 -->\n",
       "<g id=\"node9\" class=\"node\">\n",
       "<title>8</title>\n",
       "<polygon fill=\"none\" stroke=\"#000000\" points=\"375.3068,-50 284.2303,-50 284.2303,0 375.3068,0 375.3068,-50\"/>\n",
       "<text text-anchor=\"middle\" x=\"329.7686\" y=\"-34.8\" font-family=\"Times,serif\" font-size=\"14.00\" fill=\"#000000\">entropy = 0.0</text>\n",
       "<text text-anchor=\"middle\" x=\"329.7686\" y=\"-20.8\" font-family=\"Times,serif\" font-size=\"14.00\" fill=\"#000000\">samples = 3</text>\n",
       "<text text-anchor=\"middle\" x=\"329.7686\" y=\"-6.8\" font-family=\"Times,serif\" font-size=\"14.00\" fill=\"#000000\">value = [0, 3]</text>\n",
       "</g>\n",
       "<!-- 6&#45;&gt;8 -->\n",
       "<g id=\"edge8\" class=\"edge\">\n",
       "<title>6&#45;&gt;8</title>\n",
       "<path fill=\"none\" stroke=\"#000000\" d=\"M293.6964,-85.9947C298.9168,-77.1676 304.595,-67.5662 309.8686,-58.6491\"/>\n",
       "<polygon fill=\"#000000\" stroke=\"#000000\" points=\"312.8975,-60.4031 314.9753,-50.014 306.8722,-56.8398 312.8975,-60.4031\"/>\n",
       "</g>\n",
       "</g>\n",
       "</svg>\n"
      ],
      "text/plain": [
       "<graphviz.files.Source at 0x1a1b60ac18>"
      ]
     },
     "execution_count": 34,
     "metadata": {},
     "output_type": "execute_result"
    }
   ],
   "source": [
    "import graphviz \n",
    "dot_data = tree.export_graphviz(classifier_IG, out_file=None) \n",
    "graph = graphviz.Source(dot_data) \n",
    "graph"
   ]
  },
  {
   "cell_type": "markdown",
   "metadata": {},
   "source": [
    "The root node \"INFORMATION GAIN\" = 0.991"
   ]
  },
  {
   "cell_type": "markdown",
   "metadata": {},
   "source": [
    "### Gini Index"
   ]
  },
  {
   "cell_type": "code",
   "execution_count": 35,
   "metadata": {},
   "outputs": [
    {
     "data": {
      "text/plain": [
       "DecisionTreeClassifier(class_weight=None, criterion='gini', max_depth=None,\n",
       "            max_features=None, max_leaf_nodes=None,\n",
       "            min_impurity_decrease=0.0, min_impurity_split=None,\n",
       "            min_samples_leaf=1, min_samples_split=2,\n",
       "            min_weight_fraction_leaf=0.0, presort=False, random_state=None,\n",
       "            splitter='best')"
      ]
     },
     "execution_count": 35,
     "metadata": {},
     "output_type": "execute_result"
    }
   ],
   "source": [
    "classifier_gini = tree.DecisionTreeClassifier(criterion='gini')\n",
    "classifier_gini.fit(X_train,Y_train)"
   ]
  },
  {
   "cell_type": "code",
   "execution_count": 36,
   "metadata": {},
   "outputs": [
    {
     "name": "stdout",
     "output_type": "stream",
     "text": [
      "0.5555555555555555\n",
      "0.0785674201318386\n"
     ]
    }
   ],
   "source": [
    "accuracies = cross_val_score(estimator=classifier_gini, X=X_train, y=Y_train)\n",
    "print(accuracies.mean())\n",
    "print(accuracies.std())"
   ]
  },
  {
   "cell_type": "code",
   "execution_count": 37,
   "metadata": {},
   "outputs": [],
   "source": [
    "ypred_test_gini = classifier_gini.predict(X_test)"
   ]
  },
  {
   "cell_type": "code",
   "execution_count": 44,
   "metadata": {},
   "outputs": [
    {
     "data": {
      "text/plain": [
       "1.0"
      ]
     },
     "execution_count": 44,
     "metadata": {},
     "output_type": "execute_result"
    }
   ],
   "source": [
    "cm_gini = confusion_matrix(Y_test, ypred_test_gini)\n",
    "conf_accuracy_cm(cm_gini)"
   ]
  },
  {
   "cell_type": "code",
   "execution_count": 39,
   "metadata": {},
   "outputs": [
    {
     "data": {
      "image/svg+xml": [
       "<?xml version=\"1.0\" encoding=\"UTF-8\" standalone=\"no\"?>\n",
       "<!DOCTYPE svg PUBLIC \"-//W3C//DTD SVG 1.1//EN\"\n",
       " \"http://www.w3.org/Graphics/SVG/1.1/DTD/svg11.dtd\">\n",
       "<!-- Generated by graphviz version 2.40.1 (20161225.0304)\n",
       " -->\n",
       "<!-- Title: Tree Pages: 1 -->\n",
       "<svg width=\"320pt\" height=\"558pt\"\n",
       " viewBox=\"0.00 0.00 319.54 558.00\" xmlns=\"http://www.w3.org/2000/svg\" xmlns:xlink=\"http://www.w3.org/1999/xlink\">\n",
       "<g id=\"graph0\" class=\"graph\" transform=\"scale(1 1) rotate(0) translate(4 554)\">\n",
       "<title>Tree</title>\n",
       "<polygon fill=\"#ffffff\" stroke=\"transparent\" points=\"-4,4 -4,-554 315.5371,-554 315.5371,4 -4,4\"/>\n",
       "<!-- 0 -->\n",
       "<g id=\"node1\" class=\"node\">\n",
       "<title>0</title>\n",
       "<polygon fill=\"none\" stroke=\"#000000\" points=\"201.3068,-550 110.2303,-550 110.2303,-486 201.3068,-486 201.3068,-550\"/>\n",
       "<text text-anchor=\"middle\" x=\"155.7686\" y=\"-534.8\" font-family=\"Times,serif\" font-size=\"14.00\" fill=\"#000000\">X[1] &lt;= 0.5</text>\n",
       "<text text-anchor=\"middle\" x=\"155.7686\" y=\"-520.8\" font-family=\"Times,serif\" font-size=\"14.00\" fill=\"#000000\">gini = 0.494</text>\n",
       "<text text-anchor=\"middle\" x=\"155.7686\" y=\"-506.8\" font-family=\"Times,serif\" font-size=\"14.00\" fill=\"#000000\">samples = 9</text>\n",
       "<text text-anchor=\"middle\" x=\"155.7686\" y=\"-492.8\" font-family=\"Times,serif\" font-size=\"14.00\" fill=\"#000000\">value = [5, 4]</text>\n",
       "</g>\n",
       "<!-- 1 -->\n",
       "<g id=\"node2\" class=\"node\">\n",
       "<title>1</title>\n",
       "<polygon fill=\"none\" stroke=\"#000000\" points=\"146.3068,-443 55.2303,-443 55.2303,-393 146.3068,-393 146.3068,-443\"/>\n",
       "<text text-anchor=\"middle\" x=\"100.7686\" y=\"-427.8\" font-family=\"Times,serif\" font-size=\"14.00\" fill=\"#000000\">gini = 0.0</text>\n",
       "<text text-anchor=\"middle\" x=\"100.7686\" y=\"-413.8\" font-family=\"Times,serif\" font-size=\"14.00\" fill=\"#000000\">samples = 1</text>\n",
       "<text text-anchor=\"middle\" x=\"100.7686\" y=\"-399.8\" font-family=\"Times,serif\" font-size=\"14.00\" fill=\"#000000\">value = [0, 1]</text>\n",
       "</g>\n",
       "<!-- 0&#45;&gt;1 -->\n",
       "<g id=\"edge1\" class=\"edge\">\n",
       "<title>0&#45;&gt;1</title>\n",
       "<path fill=\"none\" stroke=\"#000000\" d=\"M138.0635,-485.8089C132.1264,-475.0142 125.4886,-462.9456 119.4772,-452.0158\"/>\n",
       "<polygon fill=\"#000000\" stroke=\"#000000\" points=\"122.4901,-450.231 114.6041,-443.1555 116.3566,-453.6044 122.4901,-450.231\"/>\n",
       "<text text-anchor=\"middle\" x=\"107.6338\" y=\"-462.9642\" font-family=\"Times,serif\" font-size=\"14.00\" fill=\"#000000\">True</text>\n",
       "</g>\n",
       "<!-- 2 -->\n",
       "<g id=\"node3\" class=\"node\">\n",
       "<title>2</title>\n",
       "<polygon fill=\"none\" stroke=\"#000000\" points=\"256.3068,-450 165.2303,-450 165.2303,-386 256.3068,-386 256.3068,-450\"/>\n",
       "<text text-anchor=\"middle\" x=\"210.7686\" y=\"-434.8\" font-family=\"Times,serif\" font-size=\"14.00\" fill=\"#000000\">X[2] &lt;= 4.5</text>\n",
       "<text text-anchor=\"middle\" x=\"210.7686\" y=\"-420.8\" font-family=\"Times,serif\" font-size=\"14.00\" fill=\"#000000\">gini = 0.469</text>\n",
       "<text text-anchor=\"middle\" x=\"210.7686\" y=\"-406.8\" font-family=\"Times,serif\" font-size=\"14.00\" fill=\"#000000\">samples = 8</text>\n",
       "<text text-anchor=\"middle\" x=\"210.7686\" y=\"-392.8\" font-family=\"Times,serif\" font-size=\"14.00\" fill=\"#000000\">value = [5, 3]</text>\n",
       "</g>\n",
       "<!-- 0&#45;&gt;2 -->\n",
       "<g id=\"edge2\" class=\"edge\">\n",
       "<title>0&#45;&gt;2</title>\n",
       "<path fill=\"none\" stroke=\"#000000\" d=\"M173.4736,-485.8089C178.1841,-477.2445 183.3355,-467.8782 188.2653,-458.915\"/>\n",
       "<polygon fill=\"#000000\" stroke=\"#000000\" points=\"191.3442,-460.5797 193.0966,-450.1308 185.2106,-457.2062 191.3442,-460.5797\"/>\n",
       "<text text-anchor=\"middle\" x=\"200.0669\" y=\"-469.9394\" font-family=\"Times,serif\" font-size=\"14.00\" fill=\"#000000\">False</text>\n",
       "</g>\n",
       "<!-- 3 -->\n",
       "<g id=\"node4\" class=\"node\">\n",
       "<title>3</title>\n",
       "<polygon fill=\"none\" stroke=\"#000000\" points=\"201.3068,-350 110.2303,-350 110.2303,-286 201.3068,-286 201.3068,-350\"/>\n",
       "<text text-anchor=\"middle\" x=\"155.7686\" y=\"-334.8\" font-family=\"Times,serif\" font-size=\"14.00\" fill=\"#000000\">X[1] &lt;= 1.5</text>\n",
       "<text text-anchor=\"middle\" x=\"155.7686\" y=\"-320.8\" font-family=\"Times,serif\" font-size=\"14.00\" fill=\"#000000\">gini = 0.408</text>\n",
       "<text text-anchor=\"middle\" x=\"155.7686\" y=\"-306.8\" font-family=\"Times,serif\" font-size=\"14.00\" fill=\"#000000\">samples = 7</text>\n",
       "<text text-anchor=\"middle\" x=\"155.7686\" y=\"-292.8\" font-family=\"Times,serif\" font-size=\"14.00\" fill=\"#000000\">value = [5, 2]</text>\n",
       "</g>\n",
       "<!-- 2&#45;&gt;3 -->\n",
       "<g id=\"edge3\" class=\"edge\">\n",
       "<title>2&#45;&gt;3</title>\n",
       "<path fill=\"none\" stroke=\"#000000\" d=\"M193.0635,-385.8089C188.353,-377.2445 183.2016,-367.8782 178.2718,-358.915\"/>\n",
       "<polygon fill=\"#000000\" stroke=\"#000000\" points=\"181.3265,-357.2062 173.4405,-350.1308 175.193,-360.5797 181.3265,-357.2062\"/>\n",
       "</g>\n",
       "<!-- 10 -->\n",
       "<g id=\"node11\" class=\"node\">\n",
       "<title>10</title>\n",
       "<polygon fill=\"none\" stroke=\"#000000\" points=\"311.3068,-343 220.2303,-343 220.2303,-293 311.3068,-293 311.3068,-343\"/>\n",
       "<text text-anchor=\"middle\" x=\"265.7686\" y=\"-327.8\" font-family=\"Times,serif\" font-size=\"14.00\" fill=\"#000000\">gini = 0.0</text>\n",
       "<text text-anchor=\"middle\" x=\"265.7686\" y=\"-313.8\" font-family=\"Times,serif\" font-size=\"14.00\" fill=\"#000000\">samples = 1</text>\n",
       "<text text-anchor=\"middle\" x=\"265.7686\" y=\"-299.8\" font-family=\"Times,serif\" font-size=\"14.00\" fill=\"#000000\">value = [0, 1]</text>\n",
       "</g>\n",
       "<!-- 2&#45;&gt;10 -->\n",
       "<g id=\"edge10\" class=\"edge\">\n",
       "<title>2&#45;&gt;10</title>\n",
       "<path fill=\"none\" stroke=\"#000000\" d=\"M228.4736,-385.8089C234.4107,-375.0142 241.0485,-362.9456 247.0599,-352.0158\"/>\n",
       "<polygon fill=\"#000000\" stroke=\"#000000\" points=\"250.1805,-353.6044 251.933,-343.1555 244.047,-350.231 250.1805,-353.6044\"/>\n",
       "</g>\n",
       "<!-- 4 -->\n",
       "<g id=\"node5\" class=\"node\">\n",
       "<title>4</title>\n",
       "<polygon fill=\"none\" stroke=\"#000000\" points=\"146.3068,-250 55.2303,-250 55.2303,-186 146.3068,-186 146.3068,-250\"/>\n",
       "<text text-anchor=\"middle\" x=\"100.7686\" y=\"-234.8\" font-family=\"Times,serif\" font-size=\"14.00\" fill=\"#000000\">X[3] &lt;= 0.5</text>\n",
       "<text text-anchor=\"middle\" x=\"100.7686\" y=\"-220.8\" font-family=\"Times,serif\" font-size=\"14.00\" fill=\"#000000\">gini = 0.5</text>\n",
       "<text text-anchor=\"middle\" x=\"100.7686\" y=\"-206.8\" font-family=\"Times,serif\" font-size=\"14.00\" fill=\"#000000\">samples = 4</text>\n",
       "<text text-anchor=\"middle\" x=\"100.7686\" y=\"-192.8\" font-family=\"Times,serif\" font-size=\"14.00\" fill=\"#000000\">value = [2, 2]</text>\n",
       "</g>\n",
       "<!-- 3&#45;&gt;4 -->\n",
       "<g id=\"edge4\" class=\"edge\">\n",
       "<title>3&#45;&gt;4</title>\n",
       "<path fill=\"none\" stroke=\"#000000\" d=\"M138.0635,-285.8089C133.353,-277.2445 128.2016,-267.8782 123.2718,-258.915\"/>\n",
       "<polygon fill=\"#000000\" stroke=\"#000000\" points=\"126.3265,-257.2062 118.4405,-250.1308 120.193,-260.5797 126.3265,-257.2062\"/>\n",
       "</g>\n",
       "<!-- 9 -->\n",
       "<g id=\"node10\" class=\"node\">\n",
       "<title>9</title>\n",
       "<polygon fill=\"none\" stroke=\"#000000\" points=\"256.3068,-243 165.2303,-243 165.2303,-193 256.3068,-193 256.3068,-243\"/>\n",
       "<text text-anchor=\"middle\" x=\"210.7686\" y=\"-227.8\" font-family=\"Times,serif\" font-size=\"14.00\" fill=\"#000000\">gini = 0.0</text>\n",
       "<text text-anchor=\"middle\" x=\"210.7686\" y=\"-213.8\" font-family=\"Times,serif\" font-size=\"14.00\" fill=\"#000000\">samples = 3</text>\n",
       "<text text-anchor=\"middle\" x=\"210.7686\" y=\"-199.8\" font-family=\"Times,serif\" font-size=\"14.00\" fill=\"#000000\">value = [3, 0]</text>\n",
       "</g>\n",
       "<!-- 3&#45;&gt;9 -->\n",
       "<g id=\"edge9\" class=\"edge\">\n",
       "<title>3&#45;&gt;9</title>\n",
       "<path fill=\"none\" stroke=\"#000000\" d=\"M173.4736,-285.8089C179.4107,-275.0142 186.0485,-262.9456 192.0599,-252.0158\"/>\n",
       "<polygon fill=\"#000000\" stroke=\"#000000\" points=\"195.1805,-253.6044 196.933,-243.1555 189.047,-250.231 195.1805,-253.6044\"/>\n",
       "</g>\n",
       "<!-- 5 -->\n",
       "<g id=\"node6\" class=\"node\">\n",
       "<title>5</title>\n",
       "<polygon fill=\"none\" stroke=\"#000000\" points=\"91.3068,-143 .2303,-143 .2303,-93 91.3068,-93 91.3068,-143\"/>\n",
       "<text text-anchor=\"middle\" x=\"45.7686\" y=\"-127.8\" font-family=\"Times,serif\" font-size=\"14.00\" fill=\"#000000\">gini = 0.0</text>\n",
       "<text text-anchor=\"middle\" x=\"45.7686\" y=\"-113.8\" font-family=\"Times,serif\" font-size=\"14.00\" fill=\"#000000\">samples = 1</text>\n",
       "<text text-anchor=\"middle\" x=\"45.7686\" y=\"-99.8\" font-family=\"Times,serif\" font-size=\"14.00\" fill=\"#000000\">value = [1, 0]</text>\n",
       "</g>\n",
       "<!-- 4&#45;&gt;5 -->\n",
       "<g id=\"edge5\" class=\"edge\">\n",
       "<title>4&#45;&gt;5</title>\n",
       "<path fill=\"none\" stroke=\"#000000\" d=\"M83.0635,-185.8089C77.1264,-175.0142 70.4886,-162.9456 64.4772,-152.0158\"/>\n",
       "<polygon fill=\"#000000\" stroke=\"#000000\" points=\"67.4901,-150.231 59.6041,-143.1555 61.3566,-153.6044 67.4901,-150.231\"/>\n",
       "</g>\n",
       "<!-- 6 -->\n",
       "<g id=\"node7\" class=\"node\">\n",
       "<title>6</title>\n",
       "<polygon fill=\"none\" stroke=\"#000000\" points=\"201.3068,-150 110.2303,-150 110.2303,-86 201.3068,-86 201.3068,-150\"/>\n",
       "<text text-anchor=\"middle\" x=\"155.7686\" y=\"-134.8\" font-family=\"Times,serif\" font-size=\"14.00\" fill=\"#000000\">X[0] &lt;= 0.5</text>\n",
       "<text text-anchor=\"middle\" x=\"155.7686\" y=\"-120.8\" font-family=\"Times,serif\" font-size=\"14.00\" fill=\"#000000\">gini = 0.444</text>\n",
       "<text text-anchor=\"middle\" x=\"155.7686\" y=\"-106.8\" font-family=\"Times,serif\" font-size=\"14.00\" fill=\"#000000\">samples = 3</text>\n",
       "<text text-anchor=\"middle\" x=\"155.7686\" y=\"-92.8\" font-family=\"Times,serif\" font-size=\"14.00\" fill=\"#000000\">value = [1, 2]</text>\n",
       "</g>\n",
       "<!-- 4&#45;&gt;6 -->\n",
       "<g id=\"edge6\" class=\"edge\">\n",
       "<title>4&#45;&gt;6</title>\n",
       "<path fill=\"none\" stroke=\"#000000\" d=\"M118.4736,-185.8089C123.1841,-177.2445 128.3355,-167.8782 133.2653,-158.915\"/>\n",
       "<polygon fill=\"#000000\" stroke=\"#000000\" points=\"136.3442,-160.5797 138.0966,-150.1308 130.2106,-157.2062 136.3442,-160.5797\"/>\n",
       "</g>\n",
       "<!-- 7 -->\n",
       "<g id=\"node8\" class=\"node\">\n",
       "<title>7</title>\n",
       "<polygon fill=\"none\" stroke=\"#000000\" points=\"146.3068,-50 55.2303,-50 55.2303,0 146.3068,0 146.3068,-50\"/>\n",
       "<text text-anchor=\"middle\" x=\"100.7686\" y=\"-34.8\" font-family=\"Times,serif\" font-size=\"14.00\" fill=\"#000000\">gini = 0.0</text>\n",
       "<text text-anchor=\"middle\" x=\"100.7686\" y=\"-20.8\" font-family=\"Times,serif\" font-size=\"14.00\" fill=\"#000000\">samples = 1</text>\n",
       "<text text-anchor=\"middle\" x=\"100.7686\" y=\"-6.8\" font-family=\"Times,serif\" font-size=\"14.00\" fill=\"#000000\">value = [1, 0]</text>\n",
       "</g>\n",
       "<!-- 6&#45;&gt;7 -->\n",
       "<g id=\"edge7\" class=\"edge\">\n",
       "<title>6&#45;&gt;7</title>\n",
       "<path fill=\"none\" stroke=\"#000000\" d=\"M136.8407,-85.9947C131.6204,-77.1676 125.9421,-67.5662 120.6686,-58.6491\"/>\n",
       "<polygon fill=\"#000000\" stroke=\"#000000\" points=\"123.6649,-56.8398 115.5618,-50.014 117.6397,-60.4031 123.6649,-56.8398\"/>\n",
       "</g>\n",
       "<!-- 8 -->\n",
       "<g id=\"node9\" class=\"node\">\n",
       "<title>8</title>\n",
       "<polygon fill=\"none\" stroke=\"#000000\" points=\"256.3068,-50 165.2303,-50 165.2303,0 256.3068,0 256.3068,-50\"/>\n",
       "<text text-anchor=\"middle\" x=\"210.7686\" y=\"-34.8\" font-family=\"Times,serif\" font-size=\"14.00\" fill=\"#000000\">gini = 0.0</text>\n",
       "<text text-anchor=\"middle\" x=\"210.7686\" y=\"-20.8\" font-family=\"Times,serif\" font-size=\"14.00\" fill=\"#000000\">samples = 2</text>\n",
       "<text text-anchor=\"middle\" x=\"210.7686\" y=\"-6.8\" font-family=\"Times,serif\" font-size=\"14.00\" fill=\"#000000\">value = [0, 2]</text>\n",
       "</g>\n",
       "<!-- 6&#45;&gt;8 -->\n",
       "<g id=\"edge8\" class=\"edge\">\n",
       "<title>6&#45;&gt;8</title>\n",
       "<path fill=\"none\" stroke=\"#000000\" d=\"M174.6964,-85.9947C179.9168,-77.1676 185.595,-67.5662 190.8686,-58.6491\"/>\n",
       "<polygon fill=\"#000000\" stroke=\"#000000\" points=\"193.8975,-60.4031 195.9753,-50.014 187.8722,-56.8398 193.8975,-60.4031\"/>\n",
       "</g>\n",
       "</g>\n",
       "</svg>\n"
      ],
      "text/plain": [
       "<graphviz.files.Source at 0x1a1b60ac88>"
      ]
     },
     "execution_count": 39,
     "metadata": {},
     "output_type": "execute_result"
    }
   ],
   "source": [
    "import graphviz \n",
    "dot_data = tree.export_graphviz(classifier_gini, out_file=None) \n",
    "graph = graphviz.Source(dot_data) \n",
    "graph"
   ]
  },
  {
   "cell_type": "markdown",
   "metadata": {},
   "source": [
    "The root node \"GINI INDEX\" = 0.494"
   ]
  }
 ],
 "metadata": {
  "kernelspec": {
   "display_name": "Python 3",
   "language": "python",
   "name": "python3"
  },
  "language_info": {
   "codemirror_mode": {
    "name": "ipython",
    "version": 3
   },
   "file_extension": ".py",
   "mimetype": "text/x-python",
   "name": "python",
   "nbconvert_exporter": "python",
   "pygments_lexer": "ipython3",
   "version": "3.6.5"
  }
 },
 "nbformat": 4,
 "nbformat_minor": 2
}
