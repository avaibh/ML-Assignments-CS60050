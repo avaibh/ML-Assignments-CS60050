{
 "cells": [
  {
   "cell_type": "code",
   "execution_count": 1,
   "metadata": {},
   "outputs": [
    {
     "name": "stderr",
     "output_type": "stream",
     "text": [
      "/Applications/anaconda3/lib/python3.6/importlib/_bootstrap.py:219: RuntimeWarning: numpy.dtype size changed, may indicate binary incompatibility. Expected 96, got 88\n",
      "  return f(*args, **kwds)\n",
      "/Applications/anaconda3/lib/python3.6/importlib/_bootstrap.py:219: RuntimeWarning: numpy.dtype size changed, may indicate binary incompatibility. Expected 96, got 88\n",
      "  return f(*args, **kwds)\n",
      "/Applications/anaconda3/lib/python3.6/importlib/_bootstrap.py:219: RuntimeWarning: numpy.dtype size changed, may indicate binary incompatibility. Expected 96, got 88\n",
      "  return f(*args, **kwds)\n",
      "/Applications/anaconda3/lib/python3.6/importlib/_bootstrap.py:219: RuntimeWarning: numpy.dtype size changed, may indicate binary incompatibility. Expected 96, got 88\n",
      "  return f(*args, **kwds)\n"
     ]
    }
   ],
   "source": [
    "import itertools\n",
    "import copy\n",
    "import networkx as nx\n",
    "import pandas as pd\n",
    "import numpy as np\n",
    "import matplotlib.pyplot as plt\n",
    "%matplotlib inline\n",
    "from operator import itemgetter\n",
    "import math"
   ]
  },
  {
   "cell_type": "markdown",
   "metadata": {},
   "source": [
    "## Part 1"
   ]
  },
  {
   "cell_type": "code",
   "execution_count": 2,
   "metadata": {},
   "outputs": [],
   "source": [
    "fig_size = plt.rcParams[\"figure.figsize\"]\n",
    "fig_size[0] = 20\n",
    "fig_size[1] = 15\n",
    "plt.rcParams[\"figure.figsize\"] = fig_size\n",
    "\n",
    "data = open(\"newdata.txt\").readlines()\n",
    "\n",
    "for i in range(len(data)):\n",
    "    data[i] = [x.strip() for x in data[i].split('\\t')]\n",
    "    data[i] = list(filter(None, data[i]))\n",
    "\n",
    "def jaccard_distance(list1, list2):\n",
    "    s1 = set(list1)\n",
    "    s2 = set(list2)\n",
    "    \n",
    "    #Taking jaccard distance as 1- (jaccard  coefficient of two sets of topics)\n",
    "    return 1-len(s1.intersection(s2)) / len(s1.union(s2)) \n",
    "\n",
    "n = len(data)\n",
    "distance_matrix = [[0 for x in range(0,n)] for y in range(0,n)]\n",
    "for i in range(0,n):\n",
    "    for j in range(0,n):\n",
    "        distance_matrix[i][j] = jaccard_distance(data[i], data[j])\n",
    "\n",
    "def Clusters(linkages):\n",
    "    linkages = sorted(linkages,key=itemgetter(1))\n",
    "    linkages = sorted(linkages,key=itemgetter(0))\n",
    "#     index =[]\n",
    "#     for i in range(0,len(linkages)):\n",
    "#         index.append(linkages[i][0])\n",
    "#     temp_index = list(set(index))\n",
    "#     temp_index = sorted(temp_index)\n",
    "    clusters = [-1 for x in range(0,150)]\n",
    "    count = 0\n",
    "    for i in range(0, 150):\n",
    "        if clusters[i] == -1:\n",
    "            clusters[i] = count\n",
    "            flag = 0\n",
    "        else:\n",
    "            flag = 1\n",
    "            temp_val = clusters[i]\n",
    "        key = 0\n",
    "        while key < len(linkages):\n",
    "            if linkages[key][0] == i:\n",
    "                if flag == 1:\n",
    "                    clusters[linkages[key][1]] = temp_val\n",
    "                else:\n",
    "                    clusters[linkages[key][1]] = count\n",
    "            key = key + 1\n",
    "        if flag == 0:\n",
    "            count = count + 1\n",
    "    return clusters\n",
    "\n",
    "# Single Linkage Clusters \n",
    "\n",
    "temp = [[0 for x in range(0,n)] for y in range(0,n)]\n",
    "costs = []\n",
    "x_axis = []\n",
    "y_axis = []\n",
    "# plt.title(\"Single Linkage Agglomerative Clustering of AAAI Research Papers\")\n",
    "# plt.xlabel(\"Cluster Index\")\n",
    "# plt.ylabel(\"Jaccard Similarity\")\n",
    "for i in range(0,n):\n",
    "    x_axis.append(i+1)\n",
    "    y_axis.append(0)\n",
    "for i in range(0,n):\n",
    "    for j in range(0,n):\n",
    "        temp[i][j] = distance_matrix[i][j]\n",
    "linkages = []\n",
    "for i in range(0,n-9):\n",
    "    val = 1000000000\n",
    "    posx = n\n",
    "    posy = n\n",
    "    for j in range(0,n):\n",
    "        for k in range(0,n):\n",
    "            if k == j:\n",
    "                continue\n",
    "            if temp[j][k] == -1:\n",
    "                continue\n",
    "            if temp[j][k] < val:\n",
    "                val = temp[j][k]\n",
    "                posx = j\n",
    "                posy = k\n",
    "    if posx > posy:\n",
    "        posx,posy = posy,posx\n",
    "    X = [x_axis[posx],x_axis[posx]]\n",
    "    Y = [y_axis[posx],val]\n",
    "#     plt.plot(X,Y)\n",
    "    X = [x_axis[posy],x_axis[posy]]\n",
    "    Y = [y_axis[posy],val]\n",
    "#     plt.plot(X,Y)\n",
    "    y_axis[posx]=val\n",
    "    y_axis[posy]=val\n",
    "    X = [x_axis[posx],x_axis[posy]]\n",
    "    Y = [val,val]\n",
    "#     plt.plot(X,Y)\n",
    "    x_axis[posx] = (x_axis[posx]+x_axis[posy])/2\n",
    "    tup = (posx,posy)\n",
    "    linkages.append(tup)\n",
    "    costs.append(val)\n",
    "    for j in range(0,n-1):\n",
    "        val = min(temp[posx][j],temp[posy][j])\n",
    "        temp[posx][j]=val\n",
    "        temp[j][posx]=val\n",
    "    for j in range(0,n-1):\n",
    "        temp[posy][j] = -1\n",
    "        temp[j][posy] = -1\n",
    "# plt.show()\n",
    "\n",
    "### Cluster Matrix for Single Linkage\n",
    "\n",
    "clusters_single = Clusters(linkages)\n",
    "\n",
    "# \"Clusters\" matrix is an array of size 150. Each index corresponds to a paper in the AAAI. 9 clusters are identified, each clusters is given by index ranging from 0 to 8. For example: In the array above, first paper (i.e. clusters[0]) belongs to first cluster given by index = 0.\n",
    "\n",
    "# Complete Linkage Clusters \n",
    "\n",
    "n = len(data)\n",
    "distance_matrix = [[0 for x in range(0,n)] for y in range(0,n)]\n",
    "for i in range(0,n):\n",
    "    for j in range(0,n):\n",
    "        distance_matrix[i][j] = jaccard_distance(data[i], data[j])\n",
    "temp = [[0 for x in range(0,n)] for y in range(0,n)]\n",
    "costs = []\n",
    "x_axis = []\n",
    "y_axis = []\n",
    "# plt.title(\"Complete Linkage Agglomerative Clustering of AAAI Research Papers\")\n",
    "# plt.xlabel(\"Cluster Index\")\n",
    "# plt.ylabel(\"Jaccard Similarity\")\n",
    "for i in range(0,n):\n",
    "    x_axis.append(i+1)\n",
    "    y_axis.append(0)\n",
    "for i in range(0,n):\n",
    "    for j in range(0,n):\n",
    "        temp[i][j] = distance_matrix[i][j]\n",
    "linkages_complete = []\n",
    "for i in range(0,n+16):\n",
    "    val = 1000000000\n",
    "    posx = n\n",
    "    posy = n\n",
    "    for j in range(0,n):\n",
    "        for k in range(0,n):\n",
    "            if k == j:\n",
    "                continue\n",
    "            if temp[j][k] == -1:\n",
    "                continue\n",
    "            if temp[j][k] < val:\n",
    "                val = temp[j][k]\n",
    "                posx = j\n",
    "                posy = k\n",
    "    if posx > posy:\n",
    "        posx,posy = posy,posx\n",
    "    X = [x_axis[posx],x_axis[posx]]\n",
    "    Y = [y_axis[posx],val]\n",
    "#     plt.plot(X,Y)\n",
    "    X = [x_axis[posy],x_axis[posy]]\n",
    "    Y = [y_axis[posy],val]\n",
    "#     plt.plot(X,Y)\n",
    "    y_axis[posx]=val\n",
    "    y_axis[posy]=val\n",
    "    X = [x_axis[posx],x_axis[posy]]\n",
    "    Y = [val,val]\n",
    "#     plt.plot(X,Y)\n",
    "    x_axis[posx] = (x_axis[posx]+x_axis[posy])/2\n",
    "    tup = (posx,posy)\n",
    "    linkages_complete.append(tup)\n",
    "    costs.append(val)\n",
    "    for j in range(0,n-1):\n",
    "        val = max(temp[posx][j],temp[posy][j])\n",
    "        temp[posx][j]=val\n",
    "        temp[j][posx]=val\n",
    "    for j in range(0,n-1):\n",
    "        temp[posy][j] = -1\n",
    "        temp[j][posy] = -1\n",
    "\n",
    "clusters_complete = Clusters(linkages_complete)\n",
    "\n",
    "# \"Clusters\" matrix is an array of size 150. Each index corresponds to a paper in the AAAI. 9 clusters are identified, each clusters is given by index ranging from 0 to 8. For example: In the array above, first paper (i.e. clusters[0]) belongs to first cluster given by index = 0."
   ]
  },
  {
   "cell_type": "markdown",
   "metadata": {},
   "source": [
    "## Part 2"
   ]
  },
  {
   "cell_type": "code",
   "execution_count": 3,
   "metadata": {},
   "outputs": [],
   "source": [
    "data = open(\"newdata.txt\").readlines()\n",
    "\n",
    "for i in range(len(data)):\n",
    "    data[i] = [x.strip() for x in data[i].split('\\t')]\n",
    "    data[i] = list(filter(None, data[i]))\n",
    "\n",
    "def jaccard_distance(list1, list2):\n",
    "    s1 = set(list1)\n",
    "    s2 = set(list2)\n",
    "    \n",
    "    #Taking jaccard distance as 1- (jaccard  coefficient of two sets of topics)\n",
    "    return 1-len(s1.intersection(s2)) / len(s1.union(s2)) \n",
    "\n",
    "n = len(data)\n",
    "distance_matrix = [[0 for x in range(0,n)] for y in range(0,n)]\n",
    "for i in range(0,n):\n",
    "    for j in range(0,n):\n",
    "        distance_matrix[i][j] = jaccard_distance(data[i], data[j])\n",
    "\n",
    "## Creating Graph using Networkx\n",
    "\n",
    "G = nx.Graph()\n",
    "for i in range(0,n):\n",
    "    for j in range(0,n):\n",
    "        if j < i:\n",
    "            \n",
    "            ## Setting the threshold as 1\n",
    "            if distance_matrix[i][j] < 1:\n",
    "                G.add_edge(i,j, length = distance_matrix[i][j])\n",
    "\n",
    "\n",
    "## Girvan-Newman clustering algorithm\n",
    "\n",
    "def edge_to_be_removed(G):\n",
    "    \n",
    "    edge_dict = nx.edge_betweenness_centrality(G)\n",
    "    edge_tuples = edge_dict.items()\n",
    "    edge_tuples = sorted(edge_tuples,key=itemgetter(1), reverse=True)\n",
    "    return edge_tuples[0][0]\n",
    "\n",
    "def girvan_newman_algorithm(G, number_of_clusters = 1):\n",
    "    \n",
    "    clusters = list(nx.connected_component_subgraphs(G))\n",
    "    clusters_count = len(clusters)\n",
    "    \n",
    "    while clusters_count < number_of_clusters:\n",
    "        G.remove_edge(*edge_to_be_removed(G))\n",
    "        clusters = list(nx.connected_component_subgraphs(G))\n",
    "        clusters_count = len(clusters)\n",
    "    \n",
    "    return clusters\n",
    "\n",
    "c = girvan_newman_algorithm(G, number_of_clusters = 9)\n",
    "\n",
    "count = 0\n",
    "clusters_girvan = [-1 for x in range(0,150)]\n",
    "for i in c:  \n",
    "    for j in range(0, len(i)):\n",
    "        clusters_girvan[list(i.nodes())[j]] = count\n",
    "    count = count + 1"
   ]
  },
  {
   "cell_type": "markdown",
   "metadata": {},
   "source": [
    "# Part 3"
   ]
  },
  {
   "cell_type": "raw",
   "metadata": {},
   "source": [
    "## FOLLOWING ARE THE THREE CLUSTRES ARRAY\n",
    "\n",
    "clusters_single\n",
    "clusters_complete\n",
    "clusters_girvan"
   ]
  },
  {
   "cell_type": "code",
   "execution_count": 4,
   "metadata": {},
   "outputs": [
    {
     "name": "stdout",
     "output_type": "stream",
     "text": [
      "[0 0 0 0 0 0 0 0 0 0 0 0 0 0 0 0 0 0 0 0 0 0 0 0 0 0 0 0 0 0 0 0 0 0 0 0 0\n",
      " 0 0 0 0 0 0 0 0 0 0 0 0 0 0 0 1 0 0 0 0 0 0 0 0 0 0 0 0 0 0 0 0 0 0 0 0 0\n",
      " 0 2 0 3 0 0 0 0 0 0 0 0 0 0 0 0 0 0 0 0 0 0 0 0 0 0 0 0 0 0 0 0 0 4 0 0 0\n",
      " 0 0 0 0 0 0 0 0 0 0 0 0 0 0 0 0 0 5 6 0 0 0 0 0 0 0 0 0 0 7 0 0 0 0 0 0 0\n",
      " 0 8] \n",
      " [0 0 0 0 0 0 0 0 0 0 0 0 0 0 0 0 0 0 0 0 0 0 0 0 0 0 0 0 0 0 0 0 0 0 0 0 0\n",
      " 0 0 0 0 0 0 0 0 0 0 0 0 0 0 0 0 0 0 0 0 0 0 0 0 0 0 1 0 1 2 0 0 0 0 0 0 2\n",
      " 0 0 0 3 0 0 0 0 0 0 0 0 0 0 2 0 4 5 0 0 0 0 0 0 0 0 5 0 0 0 0 0 0 0 6 0 0\n",
      " 0 0 7 0 0 0 0 3 0 0 0 0 0 6 0 8 7 0 0 4 0 0 0 7 0 0 0 0 0 0 0 0 8 5 4 0 0\n",
      " 0 0] \n",
      " [0 1 0 2 0 1 6 3 0 1 6 1 1 2 1 3 1 0 0 0 0 1 1 4 0 1 4 0 5 0 2 0 1 1 0 3 1\n",
      " 0 3 0 1 1 1 1 1 1 1 7 2 0 0 1 0 7 1 0 1 1 3 3 1 1 3 1 1 1 7 0 0 1 0 2 1 7\n",
      " 5 1 0 1 8 0 1 5 3 7 1 4 0 0 7 1 1 1 3 1 1 0 0 6 1 1 1 6 1 1 1 3 0 3 3 1 1\n",
      " 1 5 2 1 1 0 0 4 1 3 0 3 0 0 1 0 2 1 2 1 5 0 0 2 0 0 0 0 3 0 1 3 1 1 1 0 1\n",
      " 1 1]\n"
     ]
    }
   ],
   "source": [
    "print(np.array(clusters_single), \"\\n\", np.array(clusters_complete), \"\\n\", np.array(clusters_girvan))"
   ]
  },
  {
   "cell_type": "code",
   "execution_count": 5,
   "metadata": {},
   "outputs": [],
   "source": [
    "data_gs = open(\"gold_standard.txt\",'r').read().split('\\n')\n",
    "clusters_gold_standard = [-1 for x in range(0,150)]\n",
    "unique_data = list(set(data_gs))\n",
    "for i in range(0, len(unique_data)):\n",
    "    for j in range(0, len(data_gs)):\n",
    "        if data_gs[j] == unique_data[i]:\n",
    "            clusters_gold_standard[j] = i"
   ]
  },
  {
   "cell_type": "code",
   "execution_count": 6,
   "metadata": {},
   "outputs": [
    {
     "data": {
      "text/plain": [
       "array([0, 3, 0, 6, 0, 7, 3, 2, 0, 3, 0, 8, 3, 4, 3, 2, 3, 0, 0, 0, 0, 3,\n",
       "       3, 2, 8, 3, 4, 3, 2, 0, 6, 0, 3, 8, 2, 2, 3, 8, 6, 0, 3, 3, 3, 6,\n",
       "       2, 3, 3, 4, 6, 0, 0, 3, 0, 4, 3, 0, 7, 5, 1, 2, 8, 5, 2, 3, 5, 3,\n",
       "       4, 0, 0, 3, 0, 6, 3, 1, 2, 5, 0, 2, 5, 0, 3, 2, 1, 4, 3, 2, 0, 0,\n",
       "       4, 3, 5, 3, 2, 7, 3, 0, 0, 3, 3, 6, 3, 3, 6, 3, 3, 1, 3, 2, 1, 3,\n",
       "       3, 3, 2, 4, 7, 5, 0, 0, 2, 5, 1, 8, 1, 0, 1, 6, 3, 4, 1, 1, 5, 7,\n",
       "       3, 3, 4, 0, 0, 3, 3, 1, 0, 5, 1, 3, 3, 5, 0, 5, 5, 8])"
      ]
     },
     "execution_count": 6,
     "metadata": {},
     "output_type": "execute_result"
    }
   ],
   "source": [
    "np.array(clusters_gold_standard)"
   ]
  },
  {
   "cell_type": "code",
   "execution_count": 7,
   "metadata": {},
   "outputs": [],
   "source": [
    "def calc_H(clusters):\n",
    "    size = len(clusters)\n",
    "    H = 0\n",
    "    for i in range(0,9):\n",
    "        p = (clusters.count(i)) / size\n",
    "        if p != 0:\n",
    "            H = H - (p*math.log2(p))\n",
    "        else:\n",
    "            H = H - 0\n",
    "    return H\n",
    "\n",
    "def find_classes_in_clustres(clusters,clusters_gold_standard, c):\n",
    "    index = []\n",
    "    for i in range(0, len(clusters)):\n",
    "        if clusters[i] == c:\n",
    "            index.append(i)\n",
    "    myList = []\n",
    "    for i in range(0,len(index)):\n",
    "        myList.append(clusters_gold_standard[index[i]])\n",
    "    return myList\n",
    "\n",
    "def calc_Iyc(clusters,clusters_gold_standard):\n",
    "    Iyc = calc_H(clusters)\n",
    "\n",
    "    for c in range(0,9):\n",
    "\n",
    "        pc = clusters.count(c) / len(clusters)\n",
    "        Hyc = 0\n",
    "        for y in range(0,9):\n",
    "\n",
    "            mylist = find_classes_in_clustres(clusters,clusters_gold_standard, c)\n",
    "            p = (mylist.count(y)) / clusters.count(c)\n",
    "#             if p != 0:\n",
    "            Hyc = Hyc + (p*math.log2(p+0.0000001))\n",
    "#             else:\n",
    "#                 Hyc = Hyc + 0\n",
    "\n",
    "        Hyc = -(pc * Hyc)\n",
    "        Iyc = Iyc - Hyc\n",
    "        \n",
    "    return Iyc\n",
    "\n",
    "def calc_NMI(clusters,clusters_gold_standard):\n",
    "    \n",
    "    Iyc = calc_Iyc(clusters,clusters_gold_standard)\n",
    "    Hc = calc_H(clusters_gold_standard)\n",
    "    Hy = calc_H(clusters)\n",
    "    \n",
    "    return (2*Iyc) / (Hy + Hc)"
   ]
  },
  {
   "cell_type": "markdown",
   "metadata": {},
   "source": [
    "## NMI for Single Linkage Bottom-up hierarchical clustering algorithm"
   ]
  },
  {
   "cell_type": "code",
   "execution_count": 8,
   "metadata": {
    "scrolled": true
   },
   "outputs": [
    {
     "data": {
      "text/plain": [
       "-1.3322670757662927"
      ]
     },
     "execution_count": 8,
     "metadata": {},
     "output_type": "execute_result"
    }
   ],
   "source": [
    "calc_NMI(clusters_single, clusters_gold_standard)"
   ]
  },
  {
   "cell_type": "markdown",
   "metadata": {},
   "source": [
    "## NMI for Complete Linkage Bottom-up hierarchical clustering algorithm"
   ]
  },
  {
   "cell_type": "code",
   "execution_count": 9,
   "metadata": {},
   "outputs": [
    {
     "data": {
      "text/plain": [
       "-0.7750286465479835"
      ]
     },
     "execution_count": 9,
     "metadata": {},
     "output_type": "execute_result"
    }
   ],
   "source": [
    "calc_NMI(clusters_complete, clusters_gold_standard)"
   ]
  },
  {
   "cell_type": "markdown",
   "metadata": {},
   "source": [
    "## NMI for Girvan-Newman clustering algorithm"
   ]
  },
  {
   "cell_type": "code",
   "execution_count": 10,
   "metadata": {},
   "outputs": [
    {
     "data": {
      "text/plain": [
       "0.32048796339991886"
      ]
     },
     "execution_count": 10,
     "metadata": {},
     "output_type": "execute_result"
    }
   ],
   "source": [
    "calc_NMI(clusters_girvan, clusters_gold_standard)"
   ]
  },
  {
   "cell_type": "code",
   "execution_count": null,
   "metadata": {},
   "outputs": [],
   "source": []
  }
 ],
 "metadata": {
  "kernelspec": {
   "display_name": "Python 3",
   "language": "python",
   "name": "python3"
  },
  "language_info": {
   "codemirror_mode": {
    "name": "ipython",
    "version": 3
   },
   "file_extension": ".py",
   "mimetype": "text/x-python",
   "name": "python",
   "nbconvert_exporter": "python",
   "pygments_lexer": "ipython3",
   "version": "3.6.5"
  }
 },
 "nbformat": 4,
 "nbformat_minor": 2
}
