{
 "cells": [
  {
   "cell_type": "code",
   "execution_count": 2,
   "metadata": {},
   "outputs": [],
   "source": [
    "import numpy as np\n",
    "import random\n",
    "import math\n",
    "from sklearn.metrics import confusion_matrix, classification_report \n",
    "from sklearn.model_selection import train_test_split \n",
    "import matplotlib.pyplot as plt"
   ]
  },
  {
   "cell_type": "code",
   "execution_count": 3,
   "metadata": {},
   "outputs": [],
   "source": [
    "x1 = []\n",
    "y = []\n",
    "n = 10\n",
    "for i in range(n):\n",
    "    x1.append(random.uniform(0, 1))   \n",
    "for i in range(n):\n",
    "    noise = np.random.normal(scale= 0.3)\n",
    "#     print(noise)\n",
    "    temp = noise + math.sin(2*math.pi*x1[i])\n",
    "    y.append(temp) \n",
    "# for i in range(n):    \n",
    "#     print(\"(\", x[i],\", \" ,y[i], \")\")\n",
    "train_error = []\n",
    "test_error = []"
   ]
  },
  {
   "cell_type": "code",
   "execution_count": 4,
   "metadata": {},
   "outputs": [
    {
     "name": "stdout",
     "output_type": "stream",
     "text": [
      "0.4419921489950658 0.19535705977327644 0.08634628667054797 0.038164380803259505 0.016868356686298703 0.00745568122179245\n"
     ]
    }
   ],
   "source": [
    "x_train, x_test, y_train, y_test = train_test_split(x1,y,test_size = 0.2, random_state = 42)\n",
    "x2 = []\n",
    "x3 = []\n",
    "x4 = []\n",
    "x5 = []\n",
    "x6 = []\n",
    "x7 = []\n",
    "x8 = []\n",
    "x9 = []\n",
    "n1 = int(0.8*n)\n",
    "n2 = int(0.2*n)\n",
    "for i in range(n1):\n",
    "    x2.append(x_train[i]*x_train[i])\n",
    "    x3.append(x2[i]*x_train[i])\n",
    "    x4.append(x3[i]*x_train[i])\n",
    "    x5.append(x4[i]*x_train[i])\n",
    "    x6.append(x5[i]*x_train[i])\n",
    "    x7.append(x6[i]*x_train[i])\n",
    "    x8.append(x7[i]*x_train[i])\n",
    "    x9.append(x8[i]*x_train[i])\n",
    "    \n",
    "x2_test = []\n",
    "x3_test = []\n",
    "x4_test = []\n",
    "x5_test = []\n",
    "x6_test = []\n",
    "x7_test = []\n",
    "x8_test = []\n",
    "x9_test = []\n",
    "for i in range(n2):\n",
    "    x2_test.append(x_test[i]*x_test[i])\n",
    "    x3_test.append(x2_test[i]*x_test[i])\n",
    "    x4_test.append(x3_test[i]*x_test[i])\n",
    "    x5_test.append(x4_test[i]*x_test[i])\n",
    "    x6_test.append(x5_test[i]*x_test[i])\n",
    "    x7_test.append(x6_test[i]*x_test[i])\n",
    "    x8_test.append(x7_test[i]*x_test[i])\n",
    "    x9_test.append(x8_test[i]*x_test[i])\n",
    "\n",
    "print(x_train[0], x2[0], x3[0], x4[0], x5[0], x6[0])"
   ]
  },
  {
   "cell_type": "code",
   "execution_count": 5,
   "metadata": {},
   "outputs": [],
   "source": [
    "def cost_function(X, Y, B):\n",
    "    m = len(Y)\n",
    "    J = np.sum((X.dot(B) - Y) ** 2)/(2 * m)\n",
    "    return J"
   ]
  },
  {
   "cell_type": "code",
   "execution_count": 6,
   "metadata": {},
   "outputs": [],
   "source": [
    "def gradient_descent(X, Y, B, alpha, iterations):\n",
    "    cost_history = [0] * iterations\n",
    "    m = len(Y)\n",
    "    \n",
    "    for iteration in range(iterations):\n",
    "        # Hypothesis Values\n",
    "        h = X.dot(B)\n",
    "        # Difference b/w Hypothesis and Actual Y\n",
    "        loss = h - Y\n",
    "        # Gradient Calculation\n",
    "        gradient = X.T.dot(loss) / m\n",
    "        # Changing Values of B using Gradient\n",
    "        B = B - alpha * gradient\n",
    "        # New Cost Value\n",
    "        cost = cost_function(X, Y, B)\n",
    "        cost_history[iteration] = cost\n",
    "#         print(cost)\n",
    "        \n",
    "    return B, cost_history"
   ]
  },
  {
   "cell_type": "code",
   "execution_count": 7,
   "metadata": {},
   "outputs": [],
   "source": [
    "def parameterX_n(n):\n",
    "    m = len(x_train)\n",
    "    x0 = np.ones(m)\n",
    "    \n",
    "    m2 = len(x_test)\n",
    "    x0_test = np.ones(m2)\n",
    "    #Taking transpose of X matrix\n",
    "    # X = np.array([x0]).T\n",
    "    if n ==0:\n",
    "        X = np.array([x0]).T\n",
    "        B = np.array([0])\n",
    "        X_test = np.array([x0_test]).T\n",
    "    elif n==1:\n",
    "        X = np.array([x0, x_train]).T\n",
    "        B = np.array([0, 0])\n",
    "        X_test = np.array([x0_test, x_test]).T\n",
    "    elif n==2:\n",
    "        X = np.array([x0, x_train, x2]).T\n",
    "        B = np.array([0, 0, 0])\n",
    "        X_test = np.array([x0_test, x_test, x2_test]).T\n",
    "    elif n==3:\n",
    "        X = np.array([x0, x_train, x2, x3]).T\n",
    "        B = np.array([0, 0, 0, 0])\n",
    "        X_test = np.array([x0_test, x_test, x2_test, x3_test]).T\n",
    "    elif n==4:\n",
    "        X = np.array([x0, x_train, x2, x3, x4]).T\n",
    "        B = np.array([0, 0, 0, 0, 0])\n",
    "        X_test = np.array([x0_test, x_test, x2_test, x3_test, x4_test]).T\n",
    "    elif n==5:\n",
    "        X = np.array([x0, x_train, x2, x3, x4, x5]).T\n",
    "        B = np.array([0, 0, 0, 0, 0, 0])\n",
    "        X_test = np.array([x0_test, x_test, x2_test, x3_test, x4_test, x5_test]).T\n",
    "    elif n==6:\n",
    "        X = np.array([x0, x_train, x2, x3, x4, x5, x6]).T\n",
    "        B = np.array([0, 0, 0, 0, 0, 0, 0])\n",
    "        X_test = np.array([x0_test, x_test, x2_test, x3_test, x4_test, x5_test, x6_test]).T\n",
    "    elif n==7:\n",
    "        X = np.array([x0, x_train, x2, x3, x4, x5, x6, x7]).T\n",
    "        B = np.array([0, 0, 0, 0, 0, 0, 0, 0])\n",
    "        X_test = np.array([x0_test, x_test, x2_test, x3_test, x4_test, x5_test, x6_test, x7_test]).T\n",
    "    elif n==8:\n",
    "        X = np.array([x0, x_train, x2, x3, x4, x5, x6, x7, x8]).T\n",
    "        B = np.array([0, 0, 0, 0, 0, 0, 0, 0, 0])\n",
    "        X_test = np.array([x0_test, x_test, x2_test, x3_test, x4_test, x5_test, x6_test, x7_test, x8_test]).T\n",
    "    elif n==9:\n",
    "        X = np.array([x0, x_train, x2, x3, x4, x5, x6, x7, x8, x9]).T\n",
    "        B = np.array([0, 0, 0, 0, 0, 0, 0, 0, 0, 0])\n",
    "        X_test = np.array([x0_test, x_test, x2_test, x3_test, x4_test, x5_test, x6_test, x7_test, x8_test, x9_test]).T   \n",
    "    return X, B, X_test"
   ]
  },
  {
   "cell_type": "code",
   "execution_count": 8,
   "metadata": {},
   "outputs": [],
   "source": [
    "N = 4\n",
    "X, B, X_test = parameterX_n(N)\n",
    "Y = y_train\n",
    "alpha = 0.1\n",
    "\n",
    "#Training and Training Error\n",
    "newB, cost_history = gradient_descent(X, Y, B, alpha, 100000)  # 100000 Iterations\n",
    "train_error.append(cost_history[-1])\n",
    "\n",
    "updated_B = newB\n",
    "#Test Error\n",
    "test_error.append(cost_function(X_test, y_test, newB))"
   ]
  },
  {
   "cell_type": "markdown",
   "metadata": {},
   "source": [
    "# N = 100"
   ]
  },
  {
   "cell_type": "code",
   "execution_count": 9,
   "metadata": {},
   "outputs": [],
   "source": [
    "x1 = []\n",
    "y = []\n",
    "n = 100\n",
    "for i in range(n):\n",
    "    x1.append(random.uniform(0, 1))   \n",
    "for i in range(n):\n",
    "    noise = np.random.normal(scale= 0.3)\n",
    "#     print(noise)\n",
    "    temp = noise + math.sin(2*math.pi*x1[i])\n",
    "    y.append(temp) \n",
    "# for i in range(n):    \n",
    "#     print(\"(\", x[i],\", \" ,y[i], \")\")"
   ]
  },
  {
   "cell_type": "code",
   "execution_count": 10,
   "metadata": {},
   "outputs": [
    {
     "name": "stdout",
     "output_type": "stream",
     "text": [
      "0.6000198718192536 0.3600238465779936 0.21602146227560234 0.12961717010481466 0.07777287779186529 0.046665272163689486\n"
     ]
    }
   ],
   "source": [
    "x_train, x_test, y_train, y_test = train_test_split(x1,y,test_size = 0.2, random_state = 42)\n",
    "x2 = []\n",
    "x3 = []\n",
    "x4 = []\n",
    "x5 = []\n",
    "x6 = []\n",
    "x7 = []\n",
    "x8 = []\n",
    "x9 = []\n",
    "n1 = int(0.8*n)\n",
    "n2 = int(0.2*n)\n",
    "for i in range(n1):\n",
    "    x2.append(x_train[i]*x_train[i])\n",
    "    x3.append(x2[i]*x_train[i])\n",
    "    x4.append(x3[i]*x_train[i])\n",
    "    x5.append(x4[i]*x_train[i])\n",
    "    x6.append(x5[i]*x_train[i])\n",
    "    x7.append(x6[i]*x_train[i])\n",
    "    x8.append(x7[i]*x_train[i])\n",
    "    x9.append(x8[i]*x_train[i])\n",
    "    \n",
    "x2_test = []\n",
    "x3_test = []\n",
    "x4_test = []\n",
    "x5_test = []\n",
    "x6_test = []\n",
    "x7_test = []\n",
    "x8_test = []\n",
    "x9_test = []\n",
    "for i in range(n2):\n",
    "    x2_test.append(x_test[i]*x_test[i])\n",
    "    x3_test.append(x2_test[i]*x_test[i])\n",
    "    x4_test.append(x3_test[i]*x_test[i])\n",
    "    x5_test.append(x4_test[i]*x_test[i])\n",
    "    x6_test.append(x5_test[i]*x_test[i])\n",
    "    x7_test.append(x6_test[i]*x_test[i])\n",
    "    x8_test.append(x7_test[i]*x_test[i])\n",
    "    x9_test.append(x8_test[i]*x_test[i])\n",
    "\n",
    "print(x_train[0], x2[0], x3[0], x4[0], x5[0], x6[0])"
   ]
  },
  {
   "cell_type": "code",
   "execution_count": 11,
   "metadata": {},
   "outputs": [],
   "source": [
    "N = 4\n",
    "X, B, X_test = parameterX_n(N)\n",
    "Y = y_train\n",
    "alpha = 0.1\n",
    "\n",
    "#Training and Training Error\n",
    "newB, cost_history = gradient_descent(X, Y, B, alpha, 100000)  # 100000 Iterations\n",
    "train_error.append(cost_history[-1])\n",
    "\n",
    "updated_B = newB\n",
    "#Test Error\n",
    "test_error.append(cost_function(X_test, y_test, newB))"
   ]
  },
  {
   "cell_type": "markdown",
   "metadata": {},
   "source": [
    "# N = 1000"
   ]
  },
  {
   "cell_type": "code",
   "execution_count": 12,
   "metadata": {},
   "outputs": [],
   "source": [
    "x1 = []\n",
    "y = []\n",
    "n = 1000\n",
    "for i in range(n):\n",
    "    x1.append(random.uniform(0, 1))   \n",
    "for i in range(n):\n",
    "    noise = np.random.normal(scale= 0.3)\n",
    "#     print(noise)\n",
    "    temp = noise + math.sin(2*math.pi*x1[i])\n",
    "    y.append(temp) \n",
    "# for i in range(n):    \n",
    "#     print(\"(\", x[i],\", \" ,y[i], \")\")"
   ]
  },
  {
   "cell_type": "code",
   "execution_count": 13,
   "metadata": {},
   "outputs": [
    {
     "name": "stdout",
     "output_type": "stream",
     "text": [
      "0.1563935001034531 0.024458926874608784 0.0038252171826944808 0.0005982391038574598 9.356070735102134e-05 1.46322864947811e-05\n"
     ]
    }
   ],
   "source": [
    "x_train, x_test, y_train, y_test = train_test_split(x1,y,test_size = 0.2, random_state = 42)\n",
    "x2 = []\n",
    "x3 = []\n",
    "x4 = []\n",
    "x5 = []\n",
    "x6 = []\n",
    "x7 = []\n",
    "x8 = []\n",
    "x9 = []\n",
    "n1 = int(0.8*n)\n",
    "n2 = int(0.2*n)\n",
    "for i in range(n1):\n",
    "    x2.append(x_train[i]*x_train[i])\n",
    "    x3.append(x2[i]*x_train[i])\n",
    "    x4.append(x3[i]*x_train[i])\n",
    "    x5.append(x4[i]*x_train[i])\n",
    "    x6.append(x5[i]*x_train[i])\n",
    "    x7.append(x6[i]*x_train[i])\n",
    "    x8.append(x7[i]*x_train[i])\n",
    "    x9.append(x8[i]*x_train[i])\n",
    "    \n",
    "x2_test = []\n",
    "x3_test = []\n",
    "x4_test = []\n",
    "x5_test = []\n",
    "x6_test = []\n",
    "x7_test = []\n",
    "x8_test = []\n",
    "x9_test = []\n",
    "for i in range(n2):\n",
    "    x2_test.append(x_test[i]*x_test[i])\n",
    "    x3_test.append(x2_test[i]*x_test[i])\n",
    "    x4_test.append(x3_test[i]*x_test[i])\n",
    "    x5_test.append(x4_test[i]*x_test[i])\n",
    "    x6_test.append(x5_test[i]*x_test[i])\n",
    "    x7_test.append(x6_test[i]*x_test[i])\n",
    "    x8_test.append(x7_test[i]*x_test[i])\n",
    "    x9_test.append(x8_test[i]*x_test[i])\n",
    "\n",
    "print(x_train[0], x2[0], x3[0], x4[0], x5[0], x6[0])"
   ]
  },
  {
   "cell_type": "code",
   "execution_count": 14,
   "metadata": {},
   "outputs": [],
   "source": [
    "N = 4\n",
    "X, B, X_test = parameterX_n(N)\n",
    "Y = y_train\n",
    "alpha = 0.1\n",
    "\n",
    "#Training and Training Error\n",
    "newB, cost_history = gradient_descent(X, Y, B, alpha, 100000)  # 100000 Iterations\n",
    "train_error.append(cost_history[-1])\n",
    "\n",
    "updated_B = newB\n",
    "#Test Error\n",
    "test_error.append(cost_function(X_test, y_test, newB))"
   ]
  },
  {
   "cell_type": "markdown",
   "metadata": {},
   "source": [
    "# N = 10000"
   ]
  },
  {
   "cell_type": "code",
   "execution_count": 15,
   "metadata": {},
   "outputs": [],
   "source": [
    "x1 = []\n",
    "y = []\n",
    "n = 10000\n",
    "for i in range(n):\n",
    "    x1.append(random.uniform(0, 1))   \n",
    "for i in range(n):\n",
    "    noise = np.random.normal(scale= 0.3)\n",
    "#     print(noise)\n",
    "    temp = noise + math.sin(2*math.pi*x1[i])\n",
    "    y.append(temp) \n",
    "# for i in range(n):    \n",
    "#     print(\"(\", x[i],\", \" ,y[i], \")\")"
   ]
  },
  {
   "cell_type": "code",
   "execution_count": 16,
   "metadata": {},
   "outputs": [
    {
     "name": "stdout",
     "output_type": "stream",
     "text": [
      "0.40922698978154315 0.16746672916566321 0.06853190546502531 0.028045105377445596 0.01147681405171823 0.004696622066667168\n"
     ]
    }
   ],
   "source": [
    "x_train, x_test, y_train, y_test = train_test_split(x1,y,test_size = 0.2, random_state = 42)\n",
    "x2 = []\n",
    "x3 = []\n",
    "x4 = []\n",
    "x5 = []\n",
    "x6 = []\n",
    "x7 = []\n",
    "x8 = []\n",
    "x9 = []\n",
    "n1 = int(0.8*n)\n",
    "n2 = int(0.2*n)\n",
    "for i in range(n1):\n",
    "    x2.append(x_train[i]*x_train[i])\n",
    "    x3.append(x2[i]*x_train[i])\n",
    "    x4.append(x3[i]*x_train[i])\n",
    "    x5.append(x4[i]*x_train[i])\n",
    "    x6.append(x5[i]*x_train[i])\n",
    "    x7.append(x6[i]*x_train[i])\n",
    "    x8.append(x7[i]*x_train[i])\n",
    "    x9.append(x8[i]*x_train[i])\n",
    "    \n",
    "x2_test = []\n",
    "x3_test = []\n",
    "x4_test = []\n",
    "x5_test = []\n",
    "x6_test = []\n",
    "x7_test = []\n",
    "x8_test = []\n",
    "x9_test = []\n",
    "for i in range(n2):\n",
    "    x2_test.append(x_test[i]*x_test[i])\n",
    "    x3_test.append(x2_test[i]*x_test[i])\n",
    "    x4_test.append(x3_test[i]*x_test[i])\n",
    "    x5_test.append(x4_test[i]*x_test[i])\n",
    "    x6_test.append(x5_test[i]*x_test[i])\n",
    "    x7_test.append(x6_test[i]*x_test[i])\n",
    "    x8_test.append(x7_test[i]*x_test[i])\n",
    "    x9_test.append(x8_test[i]*x_test[i])\n",
    "\n",
    "print(x_train[0], x2[0], x3[0], x4[0], x5[0], x6[0])"
   ]
  },
  {
   "cell_type": "code",
   "execution_count": 17,
   "metadata": {},
   "outputs": [],
   "source": [
    "N = 4\n",
    "X, B, X_test = parameterX_n(N)\n",
    "Y = y_train\n",
    "alpha = 0.1\n",
    "\n",
    "#Training and Training Error\n",
    "newB, cost_history = gradient_descent(X, Y, B, alpha, 100000)  # 100000 Iterations\n",
    "train_error.append(cost_history[-1])\n",
    "\n",
    "updated_B = newB\n",
    "#Test Error\n",
    "test_error.append(cost_function(X_test, y_test, newB))"
   ]
  },
  {
   "cell_type": "code",
   "execution_count": 18,
   "metadata": {},
   "outputs": [
    {
     "data": {
      "image/png": "[encoded data removed]",
      "text/plain": [
       "<Figure size 432x288 with 1 Axes>"
      ]
     },
     "metadata": {},
     "output_type": "display_data"
    }
   ],
   "source": [
    "import pylab\n",
    "X_N = [10,100,1000,10000]\n",
    "fig = plt.figure()\n",
    "ax = fig.add_subplot(111)\n",
    "plt.plot(X_N,train_error, 'b', label='Train Error')\n",
    "plt.plot(X_N,test_error, 'r', label='Test Error')\n",
    "plt.scatter(X_N,train_error)\n",
    "plt.scatter(X_N,test_error)\n",
    "plt.title('Error variation with size of dataset')\n",
    "plt.ylabel('Error')\n",
    "plt.xlabel('Size of dataset')\n",
    "plt.legend()\n",
    "plt.grid()\n",
    "ax.set_xscale('log')\n",
    "# plt.xticks(np.arange(1, 5, step=1))\n",
    "plt.show()"
   ]
  },
  {
   "cell_type": "code",
   "execution_count": null,
   "metadata": {},
   "outputs": [],
   "source": []
  }
 ],
 "metadata": {
  "kernelspec": {
   "display_name": "Python 3",
   "language": "python",
   "name": "python3"
  },
  "language_info": {
   "codemirror_mode": {
    "name": "ipython",
    "version": 3
   },
   "file_extension": ".py",
   "mimetype": "text/x-python",
   "name": "python",
   "nbconvert_exporter": "python",
   "pygments_lexer": "ipython3",
   "version": "3.6.5"
  }
 },
 "nbformat": 4,
 "nbformat_minor": 2
}
