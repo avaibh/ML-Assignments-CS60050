{
 "cells": [
  {
   "cell_type": "code",
   "execution_count": 3,
   "metadata": {},
   "outputs": [],
   "source": [
    "import numpy as np\n",
    "import random\n",
    "import math\n",
    "from sklearn.metrics import confusion_matrix, classification_report \n",
    "from sklearn.model_selection import train_test_split \n",
    "import matplotlib.pyplot as plt"
   ]
  },
  {
   "cell_type": "code",
   "execution_count": 5,
   "metadata": {},
   "outputs": [],
   "source": [
    "x1 = []\n",
    "y = []\n",
    "n = 10\n",
    "for i in range(n):\n",
    "    x1.append(random.uniform(0, 1))   \n",
    "for i in range(n):\n",
    "    noise = np.random.normal(scale= 0.3)\n",
    "#     print(noise)\n",
    "    temp = noise + math.sin(2*math.pi*x1[i])\n",
    "    y.append(temp) \n",
    "# for i in range(n):    \n",
    "#     print(\"(\", x1[i],\", \" ,y[i], \")\")\n",
    "train_error = []\n",
    "test_error = []"
   ]
  },
  {
   "cell_type": "code",
   "execution_count": 6,
   "metadata": {},
   "outputs": [
    {
     "name": "stdout",
     "output_type": "stream",
     "text": [
      "0.42480192636660086 0.18045667664477497 0.0766583438644152 0.03256461214567687 0.013833509970864744 0.0058765016840349234\n"
     ]
    }
   ],
   "source": [
    "x_train, x_test, y_train, y_test = train_test_split(x1,y,test_size = 0.2, random_state = 42)\n",
    "x2 = []\n",
    "x3 = []\n",
    "x4 = []\n",
    "x5 = []\n",
    "x6 = []\n",
    "x7 = []\n",
    "x8 = []\n",
    "x9 = []\n",
    "n1 = int(0.8*n)\n",
    "n2 = int(0.2*n)\n",
    "for i in range(n1):\n",
    "    x2.append(x_train[i]*x_train[i])\n",
    "    x3.append(x2[i]*x_train[i])\n",
    "    x4.append(x3[i]*x_train[i])\n",
    "    x5.append(x4[i]*x_train[i])\n",
    "    x6.append(x5[i]*x_train[i])\n",
    "    x7.append(x6[i]*x_train[i])\n",
    "    x8.append(x7[i]*x_train[i])\n",
    "    x9.append(x8[i]*x_train[i])\n",
    "    \n",
    "x2_test = []\n",
    "x3_test = []\n",
    "x4_test = []\n",
    "x5_test = []\n",
    "x6_test = []\n",
    "x7_test = []\n",
    "x8_test = []\n",
    "x9_test = []\n",
    "for i in range(n2):\n",
    "    x2_test.append(x_test[i]*x_test[i])\n",
    "    x3_test.append(x2_test[i]*x_test[i])\n",
    "    x4_test.append(x3_test[i]*x_test[i])\n",
    "    x5_test.append(x4_test[i]*x_test[i])\n",
    "    x6_test.append(x5_test[i]*x_test[i])\n",
    "    x7_test.append(x6_test[i]*x_test[i])\n",
    "    x8_test.append(x7_test[i]*x_test[i])\n",
    "    x9_test.append(x8_test[i]*x_test[i])\n",
    "\n",
    "print(x_train[0], x2[0], x3[0], x4[0], x5[0], x6[0])"
   ]
  },
  {
   "cell_type": "code",
   "execution_count": 7,
   "metadata": {},
   "outputs": [],
   "source": [
    "def cost_function(X, Y, B):\n",
    "    m = len(Y)\n",
    "    J = np.sum((X.dot(B) - Y) ** 4)/(2 * m)\n",
    "    return J"
   ]
  },
  {
   "cell_type": "code",
   "execution_count": 8,
   "metadata": {},
   "outputs": [],
   "source": [
    "def gradient_descent(X, Y, B, alpha, iterations):\n",
    "    cost_history = [0] * iterations\n",
    "    m = len(Y)\n",
    "    \n",
    "    for iteration in range(iterations):\n",
    "        # Hypothesis Values\n",
    "        h = X.dot(B)\n",
    "        # Difference b/w Hypothesis and Actual Y\n",
    "        loss = h - Y\n",
    "        # Gradient Calculation\n",
    "        gradient = X.T.dot(loss) / m\n",
    "        # Changing Values of B using Gradient\n",
    "        B = B - alpha * gradient\n",
    "        # New Cost Value\n",
    "        cost = cost_function(X, Y, B)\n",
    "        cost_history[iteration] = cost\n",
    "#         print(cost)\n",
    "        \n",
    "    return B, cost_history"
   ]
  },
  {
   "cell_type": "code",
   "execution_count": 9,
   "metadata": {},
   "outputs": [],
   "source": [
    "def parameterX_n(n):\n",
    "    m = len(x_train)\n",
    "    x0 = np.ones(m)\n",
    "    \n",
    "    m2 = len(x_test)\n",
    "    x0_test = np.ones(m2)\n",
    "    #Taking transpose of X matrix\n",
    "    # X = np.array([x0]).T\n",
    "    if n ==0:\n",
    "        X = np.array([x0]).T\n",
    "        B = np.array([0])\n",
    "        X_test = np.array([x0_test]).T\n",
    "    elif n==1:\n",
    "        X = np.array([x0, x_train]).T\n",
    "        B = np.array([0, 0])\n",
    "        X_test = np.array([x0_test, x_test]).T\n",
    "    elif n==2:\n",
    "        X = np.array([x0, x_train, x2]).T\n",
    "        B = np.array([0, 0, 0])\n",
    "        X_test = np.array([x0_test, x_test, x2_test]).T\n",
    "    elif n==3:\n",
    "        X = np.array([x0, x_train, x2, x3]).T\n",
    "        B = np.array([0, 0, 0, 0])\n",
    "        X_test = np.array([x0_test, x_test, x2_test, x3_test]).T\n",
    "    elif n==4:\n",
    "        X = np.array([x0, x_train, x2, x3, x4]).T\n",
    "        B = np.array([0, 0, 0, 0, 0])\n",
    "        X_test = np.array([x0_test, x_test, x2_test, x3_test, x4_test]).T\n",
    "    elif n==5:\n",
    "        X = np.array([x0, x_train, x2, x3, x4, x5]).T\n",
    "        B = np.array([0, 0, 0, 0, 0, 0])\n",
    "        X_test = np.array([x0_test, x_test, x2_test, x3_test, x4_test, x5_test]).T\n",
    "    elif n==6:\n",
    "        X = np.array([x0, x_train, x2, x3, x4, x5, x6]).T\n",
    "        B = np.array([0, 0, 0, 0, 0, 0, 0])\n",
    "        X_test = np.array([x0_test, x_test, x2_test, x3_test, x4_test, x5_test, x6_test]).T\n",
    "    elif n==7:\n",
    "        X = np.array([x0, x_train, x2, x3, x4, x5, x6, x7]).T\n",
    "        B = np.array([0, 0, 0, 0, 0, 0, 0, 0])\n",
    "        X_test = np.array([x0_test, x_test, x2_test, x3_test, x4_test, x5_test, x6_test, x7_test]).T\n",
    "    elif n==8:\n",
    "        X = np.array([x0, x_train, x2, x3, x4, x5, x6, x7, x8]).T\n",
    "        B = np.array([0, 0, 0, 0, 0, 0, 0, 0, 0])\n",
    "        X_test = np.array([x0_test, x_test, x2_test, x3_test, x4_test, x5_test, x6_test, x7_test, x8_test]).T\n",
    "    elif n==9:\n",
    "        X = np.array([x0, x_train, x2, x3, x4, x5, x6, x7, x8, x9]).T\n",
    "        B = np.array([0, 0, 0, 0, 0, 0, 0, 0, 0, 0])\n",
    "        X_test = np.array([x0_test, x_test, x2_test, x3_test, x4_test, x5_test, x6_test, x7_test, x8_test, x9_test]).T   \n",
    "    return X, B, X_test"
   ]
  },
  {
   "cell_type": "markdown",
   "metadata": {},
   "source": [
    "# Case 1: N = 0\n",
    "    i.e. Y = b0"
   ]
  },
  {
   "cell_type": "code",
   "execution_count": 10,
   "metadata": {},
   "outputs": [
    {
     "data": {
      "image/png": "[encoded data removed]",
      "text/plain": [
       "<Figure size 432x288 with 1 Axes>"
      ]
     },
     "metadata": {},
     "output_type": "display_data"
    }
   ],
   "source": [
    "N = 0 \n",
    "X, B, X_test = parameterX_n(N)\n",
    "Y = y_train\n",
    "alpha = 0.1\n",
    "\n",
    "#Training and Training Error\n",
    "newB, cost_history = gradient_descent(X, Y, B, alpha, 100000)  # 100000 Iterations\n",
    "train_error.append(cost_history[-1])\n",
    "\n",
    "#Test Error\n",
    "test_error.append(cost_function(X_test, y_test, newB))\n",
    "\n",
    "#Learning Curve for Train Error\n",
    "time = []\n",
    "time_temp = 0\n",
    "for i in range(len(cost_history)):\n",
    "    time_temp += 1\n",
    "    time.append(time_temp)\n",
    "plt.plot(time,cost_history)\n",
    "plt.show()"
   ]
  },
  {
   "cell_type": "markdown",
   "metadata": {},
   "source": [
    "### Curve Fiting for N=0"
   ]
  },
  {
   "cell_type": "code",
   "execution_count": 11,
   "metadata": {},
   "outputs": [
    {
     "data": {
      "image/png": "[encoded data removed]",
      "text/plain": [
       "<Figure size 432x288 with 1 Axes>"
      ]
     },
     "metadata": {},
     "output_type": "display_data"
    }
   ],
   "source": [
    "#Curve Fiting\n",
    "Y_hyp = []\n",
    "X_t = []\n",
    "x_temp = 0\n",
    "for i in range(5000):\n",
    "    x_temp += .0002\n",
    "    X_t.append(x_temp)\n",
    "    Y_hyp.append(newB[0])\n",
    "plt.scatter(x1,y)\n",
    "plt.plot(X_t,Y_hyp, 'r')\n",
    "plt.show()"
   ]
  },
  {
   "cell_type": "code",
   "execution_count": 12,
   "metadata": {},
   "outputs": [
    {
     "data": {
      "text/plain": [
       "array([0.24724308])"
      ]
     },
     "execution_count": 12,
     "metadata": {},
     "output_type": "execute_result"
    }
   ],
   "source": [
    "newB"
   ]
  },
  {
   "cell_type": "markdown",
   "metadata": {},
   "source": [
    "# Case 2: N = 1\n",
    "    i.e. Y = b0 + b1*x"
   ]
  },
  {
   "cell_type": "code",
   "execution_count": 13,
   "metadata": {},
   "outputs": [
    {
     "data": {
      "image/png": "[encoded data removed]",
      "text/plain": [
       "<Figure size 432x288 with 1 Axes>"
      ]
     },
     "metadata": {},
     "output_type": "display_data"
    }
   ],
   "source": [
    "N = 1\n",
    "X, B, X_test = parameterX_n(N)\n",
    "Y = y_train\n",
    "alpha = 0.1\n",
    "\n",
    "#Training and Training Error\n",
    "newB, cost_history = gradient_descent(X, Y, B, alpha, 100000)  # 100000 Iterations\n",
    "train_error.append(cost_history[-1])\n",
    "\n",
    "#Test Error\n",
    "test_error.append(cost_function(X_test, y_test, newB))\n",
    "\n",
    "#Learning Curve for Train Error\n",
    "time = []\n",
    "time_temp = 0\n",
    "for i in range(len(cost_history)):\n",
    "    time_temp += 1\n",
    "    time.append(time_temp)\n",
    "plt.plot(time,cost_history)\n",
    "plt.show()"
   ]
  },
  {
   "cell_type": "markdown",
   "metadata": {},
   "source": [
    "### Curve Fiting for N=1"
   ]
  },
  {
   "cell_type": "code",
   "execution_count": 14,
   "metadata": {},
   "outputs": [
    {
     "data": {
      "image/png": "[encoded data removed]",
      "text/plain": [
       "<Figure size 432x288 with 1 Axes>"
      ]
     },
     "metadata": {},
     "output_type": "display_data"
    }
   ],
   "source": [
    "Y_hyp = []\n",
    "X_t = []\n",
    "x_temp = 0\n",
    "for i in range(5000):\n",
    "    x_temp += .0002\n",
    "    X_t.append(x_temp)\n",
    "    Y_hyp.append(newB[0]+newB[1]*x_temp)\n",
    "plt.scatter(x1,y)\n",
    "plt.plot(X_t,Y_hyp, 'r')\n",
    "plt.show()"
   ]
  },
  {
   "cell_type": "code",
   "execution_count": 15,
   "metadata": {},
   "outputs": [
    {
     "data": {
      "text/plain": [
       "array([ 0.84728095, -1.84652651])"
      ]
     },
     "execution_count": 15,
     "metadata": {},
     "output_type": "execute_result"
    }
   ],
   "source": [
    "newB"
   ]
  },
  {
   "cell_type": "markdown",
   "metadata": {},
   "source": [
    "# Case 3: N = 2\n",
    "    i.e. Y = b0 + b1*x + b2*x2"
   ]
  },
  {
   "cell_type": "code",
   "execution_count": 16,
   "metadata": {},
   "outputs": [
    {
     "data": {
      "image/png": "[encoded data removed]",
      "text/plain": [
       "<Figure size 432x288 with 1 Axes>"
      ]
     },
     "metadata": {},
     "output_type": "display_data"
    }
   ],
   "source": [
    "N = 2\n",
    "X, B, X_test = parameterX_n(N)\n",
    "Y = y_train\n",
    "alpha = 0.1\n",
    "\n",
    "#Training and Training Error\n",
    "newB, cost_history = gradient_descent(X, Y, B, alpha, 100000)  # 100000 Iterations\n",
    "train_error.append(cost_history[-1])\n",
    "\n",
    "#Test Error\n",
    "test_error.append(cost_function(X_test, y_test, newB))\n",
    "\n",
    "#Learning Curve for Train Error\n",
    "time = []\n",
    "time_temp = 0\n",
    "for i in range(len(cost_history)):\n",
    "    time_temp += 1\n",
    "    time.append(time_temp)\n",
    "plt.plot(time,cost_history)\n",
    "plt.show()"
   ]
  },
  {
   "cell_type": "markdown",
   "metadata": {},
   "source": [
    "### Curve Fiting for N=2"
   ]
  },
  {
   "cell_type": "code",
   "execution_count": 17,
   "metadata": {},
   "outputs": [
    {
     "data": {
      "image/png": "[encoded data removed]",
      "text/plain": [
       "<Figure size 432x288 with 1 Axes>"
      ]
     },
     "metadata": {},
     "output_type": "display_data"
    }
   ],
   "source": [
    "Y_hyp = []\n",
    "X_t = []\n",
    "x_temp = 0\n",
    "for i in range(5000):\n",
    "    x_temp += .0002\n",
    "    X_t.append(x_temp)\n",
    "    Y_hyp.append(newB[0]+newB[1]*x_temp+newB[2]*((x_temp)**2))\n",
    "plt.scatter(x1,y)\n",
    "plt.plot(X_t,Y_hyp, 'r')\n",
    "plt.show()"
   ]
  },
  {
   "cell_type": "code",
   "execution_count": 18,
   "metadata": {},
   "outputs": [
    {
     "data": {
      "text/plain": [
       "array([  0.17723536,   8.84116349, -17.27306056])"
      ]
     },
     "execution_count": 18,
     "metadata": {},
     "output_type": "execute_result"
    }
   ],
   "source": [
    "newB"
   ]
  },
  {
   "cell_type": "markdown",
   "metadata": {},
   "source": [
    "# Case 4: N = 3\n",
    "    i.e. Y = b0 + b1*x + b2*x2 + b3*x3"
   ]
  },
  {
   "cell_type": "code",
   "execution_count": 19,
   "metadata": {},
   "outputs": [
    {
     "data": {
      "image/png": "[encoded data removed]",
      "text/plain": [
       "<Figure size 432x288 with 1 Axes>"
      ]
     },
     "metadata": {},
     "output_type": "display_data"
    }
   ],
   "source": [
    "N = 3\n",
    "X, B, X_test = parameterX_n(N)\n",
    "Y = y_train\n",
    "alpha = 0.1\n",
    "\n",
    "#Training and Training Error\n",
    "newB, cost_history = gradient_descent(X, Y, B, alpha, 100000)  # 100000 Iterations\n",
    "train_error.append(cost_history[-1])\n",
    "\n",
    "#Test Error\n",
    "test_error.append(cost_function(X_test, y_test, newB))\n",
    "\n",
    "#Learning Curve for Train Error\n",
    "time = []\n",
    "time_temp = 0\n",
    "for i in range(len(cost_history)):\n",
    "    time_temp += 1\n",
    "    time.append(time_temp)\n",
    "plt.plot(time,cost_history)\n",
    "plt.show()"
   ]
  },
  {
   "cell_type": "markdown",
   "metadata": {},
   "source": [
    "### Curve Fiting for N=3"
   ]
  },
  {
   "cell_type": "code",
   "execution_count": 20,
   "metadata": {},
   "outputs": [
    {
     "data": {
      "image/png": "[encoded data removed]",
      "text/plain": [
       "<Figure size 432x288 with 1 Axes>"
      ]
     },
     "metadata": {},
     "output_type": "display_data"
    }
   ],
   "source": [
    "Y_hyp = []\n",
    "X_t = []\n",
    "x_temp = 0\n",
    "for i in range(5000):\n",
    "    x_temp += .0002\n",
    "    X_t.append(x_temp)\n",
    "    Y_hyp.append(newB[0]+newB[1]*x_temp+newB[2]*((x_temp)**2)+newB[3]*((x_temp)**3))\n",
    "plt.scatter(x1,y)\n",
    "plt.plot(X_t,Y_hyp, 'r')\n",
    "plt.show()"
   ]
  },
  {
   "cell_type": "code",
   "execution_count": 21,
   "metadata": {},
   "outputs": [
    {
     "data": {
      "text/plain": [
       "array([  0.21821449,   7.36175605, -11.23359785,  -6.15348331])"
      ]
     },
     "execution_count": 21,
     "metadata": {},
     "output_type": "execute_result"
    }
   ],
   "source": [
    "newB"
   ]
  },
  {
   "cell_type": "markdown",
   "metadata": {},
   "source": [
    "# Case 5: N = 4\n",
    "    i.e. Y = b0 + b1*x + b2*x2 + b3*x3 + b4*x4"
   ]
  },
  {
   "cell_type": "code",
   "execution_count": 22,
   "metadata": {},
   "outputs": [
    {
     "data": {
      "image/png": "[encoded data removed]",
      "text/plain": [
       "<Figure size 432x288 with 1 Axes>"
      ]
     },
     "metadata": {},
     "output_type": "display_data"
    }
   ],
   "source": [
    "N = 4\n",
    "X, B, X_test = parameterX_n(N)\n",
    "Y = y_train\n",
    "alpha = 0.1\n",
    "\n",
    "#Training and Training Error\n",
    "newB, cost_history = gradient_descent(X, Y, B, alpha, 100000)  # 100000 Iterations\n",
    "train_error.append(cost_history[-1])\n",
    "\n",
    "updated_B = newB\n",
    "#Test Error\n",
    "test_error.append(cost_function(X_test, y_test, newB))\n",
    "\n",
    "#Learning Curve for Train Error\n",
    "time = []\n",
    "time_temp = 0\n",
    "for i in range(len(cost_history)):\n",
    "    time_temp += 1\n",
    "    time.append(time_temp)\n",
    "plt.plot(time,cost_history)\n",
    "plt.show()"
   ]
  },
  {
   "cell_type": "markdown",
   "metadata": {},
   "source": [
    "### Curve Fiting for N=4"
   ]
  },
  {
   "cell_type": "code",
   "execution_count": 23,
   "metadata": {},
   "outputs": [
    {
     "data": {
      "image/png": "[encoded data removed]",
      "text/plain": [
       "<Figure size 432x288 with 1 Axes>"
      ]
     },
     "metadata": {},
     "output_type": "display_data"
    }
   ],
   "source": [
    "Y_hyp = []\n",
    "X_t = []\n",
    "x_temp = 0\n",
    "for i in range(5000):\n",
    "    x_temp += .0002\n",
    "    X_t.append(x_temp)\n",
    "    Y_hyp.append(newB[0]+newB[1]*x_temp+newB[2]*((x_temp)**2)+newB[3]*((x_temp)**3)+newB[4]*((x_temp)**4))\n",
    "plt.scatter(x1,y)\n",
    "plt.plot(X_t,Y_hyp, 'r')\n",
    "plt.show()"
   ]
  },
  {
   "cell_type": "code",
   "execution_count": 24,
   "metadata": {},
   "outputs": [
    {
     "data": {
      "text/plain": [
       "array([  0.22349199,   7.32037178, -11.40087349,  -5.55237009,\n",
       "        -0.35393289])"
      ]
     },
     "execution_count": 24,
     "metadata": {},
     "output_type": "execute_result"
    }
   ],
   "source": [
    "newB"
   ]
  },
  {
   "cell_type": "markdown",
   "metadata": {},
   "source": [
    "# Case 6: N = 5\n",
    "    i.e. Y = b0 + b1*x + b2*x2 + b3*x3 + b4*x4 + b5*x5"
   ]
  },
  {
   "cell_type": "code",
   "execution_count": 25,
   "metadata": {},
   "outputs": [
    {
     "data": {
      "image/png": "[encoded data removed]",
      "text/plain": [
       "<Figure size 432x288 with 1 Axes>"
      ]
     },
     "metadata": {},
     "output_type": "display_data"
    }
   ],
   "source": [
    "N = 5\n",
    "X, B, X_test = parameterX_n(N)\n",
    "Y = y_train\n",
    "alpha = 0.1\n",
    "\n",
    "#Training and Training Error\n",
    "newB, cost_history = gradient_descent(X, Y, B, alpha, 100000)  # 100000 Iterations\n",
    "train_error.append(cost_history[-1])\n",
    "\n",
    "#Test Error\n",
    "test_error.append(cost_function(X_test, y_test, newB))\n",
    "\n",
    "#Learning Curve for Train Error\n",
    "time = []\n",
    "time_temp = 0\n",
    "for i in range(len(cost_history)):\n",
    "    time_temp += 1\n",
    "    time.append(time_temp)\n",
    "plt.plot(time,cost_history)\n",
    "plt.show()"
   ]
  },
  {
   "cell_type": "markdown",
   "metadata": {},
   "source": [
    "### Curve Fiting for N=5"
   ]
  },
  {
   "cell_type": "code",
   "execution_count": 26,
   "metadata": {},
   "outputs": [
    {
     "data": {
      "image/png": "[encoded data removed]",
      "text/plain": [
       "<Figure size 432x288 with 1 Axes>"
      ]
     },
     "metadata": {},
     "output_type": "display_data"
    }
   ],
   "source": [
    "Y_hyp = []\n",
    "X_t = []\n",
    "x_temp = 0\n",
    "for i in range(5000):\n",
    "    x_temp += .0002\n",
    "    X_t.append(x_temp)\n",
    "    Y_hyp.append(newB[0]+newB[1]*x_temp+newB[2]*((x_temp)**2)+newB[3]*((x_temp)**3)+newB[4]*((x_temp)**4)+newB[5]*((x_temp)**5))\n",
    "plt.scatter(x1,y)\n",
    "plt.plot(X_t,Y_hyp, 'r')\n",
    "plt.show()"
   ]
  },
  {
   "cell_type": "code",
   "execution_count": 27,
   "metadata": {},
   "outputs": [
    {
     "data": {
      "text/plain": [
       "array([  0.2192324 ,   7.48301208, -11.77827604,  -5.88384099,\n",
       "        -0.57034834,   1.84963088])"
      ]
     },
     "execution_count": 27,
     "metadata": {},
     "output_type": "execute_result"
    }
   ],
   "source": [
    "newB"
   ]
  },
  {
   "cell_type": "markdown",
   "metadata": {},
   "source": [
    "# Case 7: N = 6\n",
    "    i.e. Y = b0 + b1*x + b2*x2 + b3*x3 + b4*x4 + b5*x5 + b6*x6 "
   ]
  },
  {
   "cell_type": "code",
   "execution_count": 28,
   "metadata": {},
   "outputs": [
    {
     "data": {
      "image/png": "[encoded data removed]",
      "text/plain": [
       "<Figure size 432x288 with 1 Axes>"
      ]
     },
     "metadata": {},
     "output_type": "display_data"
    }
   ],
   "source": [
    "N = 6\n",
    "X, B, X_test = parameterX_n(N)\n",
    "Y = y_train\n",
    "alpha = 0.1\n",
    "\n",
    "#Training and Training Error\n",
    "newB, cost_history = gradient_descent(X, Y, B, alpha, 100000)  # 100000 Iterations\n",
    "train_error.append(cost_history[-1])\n",
    "\n",
    "#Test Error\n",
    "test_error.append(cost_function(X_test, y_test, newB))\n",
    "\n",
    "#Learning Curve for Train Error\n",
    "time = []\n",
    "time_temp = 0\n",
    "for i in range(len(cost_history)):\n",
    "    time_temp += 1\n",
    "    time.append(time_temp)\n",
    "plt.plot(time,cost_history)\n",
    "plt.show()"
   ]
  },
  {
   "cell_type": "markdown",
   "metadata": {},
   "source": [
    "### Curve Fiting for N=6"
   ]
  },
  {
   "cell_type": "code",
   "execution_count": 29,
   "metadata": {},
   "outputs": [
    {
     "data": {
      "image/png": "[encoded data removed]",
      "text/plain": [
       "<Figure size 432x288 with 1 Axes>"
      ]
     },
     "metadata": {},
     "output_type": "display_data"
    }
   ],
   "source": [
    "Y_hyp = []\n",
    "X_t = []\n",
    "x_temp = 0\n",
    "for i in range(5000):\n",
    "    x_temp += .0002\n",
    "    X_t.append(x_temp)\n",
    "    Y_hyp.append(newB[0]+newB[1]*x_temp+newB[2]*((x_temp)**2)+newB[3]*((x_temp)**3)+newB[4]*((x_temp)**4)+newB[5]*((x_temp)**5)+newB[6]*((x_temp)**6))\n",
    "plt.scatter(x1,y)\n",
    "plt.plot(X_t,Y_hyp, 'r')\n",
    "plt.show()"
   ]
  },
  {
   "cell_type": "code",
   "execution_count": 30,
   "metadata": {},
   "outputs": [
    {
     "data": {
      "text/plain": [
       "array([  0.21501349,   7.59788867, -11.94469976,  -6.16270509,\n",
       "        -0.84284512,   1.62672136,   2.30660528])"
      ]
     },
     "execution_count": 30,
     "metadata": {},
     "output_type": "execute_result"
    }
   ],
   "source": [
    "newB"
   ]
  },
  {
   "cell_type": "markdown",
   "metadata": {},
   "source": [
    "# Case 8: N = 7\n",
    "    i.e. Y = b0 + b1*x + b2*x2 + b3*x3 + b4*x4 + b5*x5 + b6*x6 + b7*x7"
   ]
  },
  {
   "cell_type": "code",
   "execution_count": 31,
   "metadata": {},
   "outputs": [
    {
     "data": {
      "image/png": "[encoded data removed]",
      "text/plain": [
       "<Figure size 432x288 with 1 Axes>"
      ]
     },
     "metadata": {},
     "output_type": "display_data"
    }
   ],
   "source": [
    "N = 7\n",
    "X, B, X_test = parameterX_n(N)\n",
    "Y = y_train\n",
    "alpha = 0.1\n",
    "\n",
    "#Training and Training Error\n",
    "newB, cost_history = gradient_descent(X, Y, B, alpha, 100000)  # 100000 Iterations\n",
    "train_error.append(cost_history[-1])\n",
    "\n",
    "#Test Error\n",
    "test_error.append(cost_function(X_test, y_test, newB))\n",
    "\n",
    "#Learning Curve for Train Error\n",
    "time = []\n",
    "time_temp = 0\n",
    "for i in range(len(cost_history)):\n",
    "    time_temp += 1\n",
    "    time.append(time_temp)\n",
    "plt.plot(time,cost_history)\n",
    "plt.show()"
   ]
  },
  {
   "cell_type": "markdown",
   "metadata": {},
   "source": [
    "### Curve Fiting for N=7"
   ]
  },
  {
   "cell_type": "code",
   "execution_count": 32,
   "metadata": {},
   "outputs": [
    {
     "data": {
      "image/png": "[encoded data removed]",
      "text/plain": [
       "<Figure size 432x288 with 1 Axes>"
      ]
     },
     "metadata": {},
     "output_type": "display_data"
    }
   ],
   "source": [
    "Y_hyp = []\n",
    "X_t = []\n",
    "x_temp = 0\n",
    "for i in range(5000):\n",
    "    x_temp += .0002\n",
    "    X_t.append(x_temp)\n",
    "    Y_hyp.append(newB[0]+newB[1]*x_temp+newB[2]*((x_temp)**2)+newB[3]*((x_temp)**3)+newB[4]*((x_temp)**4)+newB[5]*((x_temp)**5)+newB[6]*((x_temp)**6)+newB[7]*((x_temp)**7))\n",
    "plt.scatter(x1,y)\n",
    "plt.plot(X_t,Y_hyp, 'r')\n",
    "plt.show()"
   ]
  },
  {
   "cell_type": "code",
   "execution_count": 33,
   "metadata": {},
   "outputs": [
    {
     "data": {
      "text/plain": [
       "array([  0.21240617,   7.65736266, -11.9966424 ,  -6.31630369,\n",
       "        -1.01821718,   1.47110983,   2.18352122,   2.08046725])"
      ]
     },
     "execution_count": 33,
     "metadata": {},
     "output_type": "execute_result"
    }
   ],
   "source": [
    "newB"
   ]
  },
  {
   "cell_type": "markdown",
   "metadata": {},
   "source": [
    "# Case 9: N = 8\n",
    "    i.e. Y = b0 + b1*x + b2*x2 + b3*x3 + b4*x4 + b5*x5 + b6*x6 + b7*x7 + b8*x8"
   ]
  },
  {
   "cell_type": "code",
   "execution_count": 34,
   "metadata": {},
   "outputs": [
    {
     "data": {
      "image/png": "[encoded data removed]",
      "text/plain": [
       "<Figure size 432x288 with 1 Axes>"
      ]
     },
     "metadata": {},
     "output_type": "display_data"
    }
   ],
   "source": [
    "N = 8\n",
    "X, B, X_test = parameterX_n(N)\n",
    "Y = y_train\n",
    "alpha = 0.1\n",
    "\n",
    "#Training and Training Error\n",
    "newB, cost_history = gradient_descent(X, Y, B, alpha, 100000)  # 100000 Iterations\n",
    "train_error.append(cost_history[-1])\n",
    "\n",
    "#Test Error\n",
    "test_error.append(cost_function(X_test, y_test, newB))\n",
    "\n",
    "#Learning Curve for Train Error\n",
    "time = []\n",
    "time_temp = 0\n",
    "for i in range(len(cost_history)):\n",
    "    time_temp += 1\n",
    "    time.append(time_temp)\n",
    "plt.plot(time,cost_history)\n",
    "plt.show()"
   ]
  },
  {
   "cell_type": "markdown",
   "metadata": {},
   "source": [
    "### Curve Fiting for N=8"
   ]
  },
  {
   "cell_type": "code",
   "execution_count": 35,
   "metadata": {},
   "outputs": [
    {
     "data": {
      "image/png": "[encoded data removed]",
      "text/plain": [
       "<Figure size 432x288 with 1 Axes>"
      ]
     },
     "metadata": {},
     "output_type": "display_data"
    }
   ],
   "source": [
    "Y_hyp = []\n",
    "X_t = []\n",
    "x_temp = 0\n",
    "for i in range(5000):\n",
    "    x_temp += .0002\n",
    "    X_t.append(x_temp)\n",
    "    Y_hyp.append(newB[0]+newB[1]*x_temp+newB[2]*((x_temp)**2)+newB[3]*((x_temp)**3)+newB[4]*((x_temp)**4)+newB[5]*((x_temp)**5)+newB[6]*((x_temp)**6)+newB[7]*((x_temp)**7)+newB[8]*((x_temp)**8))\n",
    "plt.scatter(x1,y)\n",
    "plt.plot(X_t,Y_hyp, 'r')\n",
    "plt.show()"
   ]
  },
  {
   "cell_type": "code",
   "execution_count": 36,
   "metadata": {},
   "outputs": [
    {
     "data": {
      "text/plain": [
       "array([  0.21102651,   7.68490919, -12.00720826,  -6.3909716 ,\n",
       "        -1.11328536,   1.38250502,   2.11134557,   2.02582244,\n",
       "         1.65834017])"
      ]
     },
     "execution_count": 36,
     "metadata": {},
     "output_type": "execute_result"
    }
   ],
   "source": [
    "newB"
   ]
  },
  {
   "cell_type": "markdown",
   "metadata": {},
   "source": [
    "# Case 10: N = 9\n",
    "    i.e. Y = b0 + b1*x + b2*x2 + b3*x3 + b4*x4 + b5*x5 + b6*x6 + b7*x7 + b8*x8 + b9*x9"
   ]
  },
  {
   "cell_type": "code",
   "execution_count": 37,
   "metadata": {},
   "outputs": [
    {
     "data": {
      "image/png": "[encoded data removed]",
      "text/plain": [
       "<Figure size 432x288 with 1 Axes>"
      ]
     },
     "metadata": {},
     "output_type": "display_data"
    }
   ],
   "source": [
    "N = 9\n",
    "X, B, X_test = parameterX_n(N)\n",
    "Y = y_train\n",
    "alpha = 0.1\n",
    "\n",
    "#Training and Training Error\n",
    "newB, cost_history = gradient_descent(X, Y, B, alpha, 100000)  # 100000 Iterations\n",
    "train_error.append(cost_history[-1])\n",
    "\n",
    "#Test Error\n",
    "test_error.append(cost_function(X_test, y_test, newB))\n",
    "\n",
    "#Learning Curve for Train Error\n",
    "time = []\n",
    "time_temp = 0\n",
    "for i in range(len(cost_history)):\n",
    "    time_temp += 1\n",
    "    time.append(time_temp)\n",
    "plt.plot(time,cost_history)\n",
    "plt.show()"
   ]
  },
  {
   "cell_type": "markdown",
   "metadata": {},
   "source": [
    "### Curve Fiting for N=9"
   ]
  },
  {
   "cell_type": "code",
   "execution_count": 38,
   "metadata": {},
   "outputs": [
    {
     "data": {
      "image/png": "[encoded data removed]",
      "text/plain": [
       "<Figure size 432x288 with 1 Axes>"
      ]
     },
     "metadata": {},
     "output_type": "display_data"
    }
   ],
   "source": [
    "Y_hyp = []\n",
    "X_t = []\n",
    "x_temp = 0\n",
    "for i in range(5000):\n",
    "    x_temp += .0002\n",
    "    X_t.append(x_temp)\n",
    "    Y_hyp.append(newB[0]+newB[1]*x_temp+newB[2]*((x_temp)**2)+newB[3]*((x_temp)**3)+newB[4]*((x_temp)**4)+newB[5]*((x_temp)**5)+newB[6]*((x_temp)**6)+newB[7]*((x_temp)**7)+newB[8]*((x_temp)**8)+newB[9]*((x_temp)**9))\n",
    "plt.scatter(x1,y)\n",
    "plt.plot(X_t,Y_hyp, 'r')\n",
    "plt.show()"
   ]
  },
  {
   "cell_type": "code",
   "execution_count": 39,
   "metadata": {},
   "outputs": [
    {
     "data": {
      "text/plain": [
       "array([  0.21035048,   7.69698711, -12.00638323,  -6.42521085,\n",
       "        -1.16080854,   1.33662601,   2.0732033 ,   1.99654611,\n",
       "         1.63693591,   1.23826727])"
      ]
     },
     "execution_count": 39,
     "metadata": {},
     "output_type": "execute_result"
    }
   ],
   "source": [
    "newB"
   ]
  },
  {
   "cell_type": "markdown",
   "metadata": {},
   "source": [
    "### Train Error vs Test Error"
   ]
  },
  {
   "cell_type": "code",
   "execution_count": 40,
   "metadata": {},
   "outputs": [
    {
     "data": {
      "image/png": "[encoded data removed]",
      "text/plain": [
       "<Figure size 432x288 with 1 Axes>"
      ]
     },
     "metadata": {},
     "output_type": "display_data"
    }
   ],
   "source": [
    "X_N = [0,1,2,3,4,5,6,7,8,9]\n",
    "plt.plot(X_N,train_error, 'r', label='Train Error')\n",
    "plt.plot(X_N,test_error, 'b', label='Test Error')\n",
    "plt.title('Train Error vs Test Error')\n",
    "plt.ylabel('Error')\n",
    "plt.xlabel('N')\n",
    "plt.legend()\n",
    "plt.grid()\n",
    "plt.xticks(np.arange(0, 10, step=1))\n",
    "plt.show()"
   ]
  },
  {
   "cell_type": "markdown",
   "metadata": {},
   "source": [
    "Test Error is recorded in the list test_error. \n",
    "Test Error correspoding to N is given by test_error[n]\n",
    "\n",
    "From the above plot we can conclude that N = 2 is the best fit because the test error is minimum, and for N>2 there is a slight increase in test error which can result into overfitting"
   ]
  },
  {
   "cell_type": "markdown",
   "metadata": {},
   "source": [
    "## RMSE vs learning rate\n",
    "    For N=2; i.e. Y = B0 + B1*X1 + B2*X2"
   ]
  },
  {
   "cell_type": "code",
   "execution_count": 47,
   "metadata": {},
   "outputs": [],
   "source": [
    "# Model Evaluation - RMSE\n",
    "def rmse(Y, Y_pred):\n",
    "    rmse = np.sqrt(sum((Y - Y_pred) ** 2) / len(Y))\n",
    "    return rmse\n",
    "\n",
    "N = 2\n",
    "X, B, X_test = parameterX_n(N)\n",
    "Y = y_train\n",
    "rmse_value = []\n",
    "\n",
    "for i in range(5):\n",
    "    if i==0:\n",
    "        alpha = 0.025\n",
    "    elif i==1:\n",
    "        alpha = 0.05\n",
    "    elif i==2:\n",
    "        alpha = 0.1\n",
    "    elif i==3:\n",
    "        alpha = 0.2\n",
    "    elif i==4:\n",
    "        alpha = 0.5\n",
    "    \n",
    "    newB, cost_history = gradient_descent(X, Y, B, alpha, 100000)\n",
    "    if alpha == 0.1:\n",
    "        final_train_cost = cost_history[-1]\n",
    "        final_test_cost = cost_function(X_test, y_test, newB)\n",
    "    Y_pred = X_test.dot(newB)\n",
    "    rmse_value.append(rmse(y_test, Y_pred))"
   ]
  },
  {
   "cell_type": "code",
   "execution_count": 48,
   "metadata": {},
   "outputs": [
    {
     "data": {
      "image/png": "[encoded data removed]",
      "text/plain": [
       "<Figure size 432x288 with 1 Axes>"
      ]
     },
     "metadata": {},
     "output_type": "display_data"
    }
   ],
   "source": [
    "X_N = [0.025,0.05,0.1,0.2,0.5]\n",
    "plt.plot(X_N,rmse_value)\n",
    "plt.title('Test RMSE vs Learning Rate')\n",
    "plt.ylabel('Test RMSE')\n",
    "plt.xlabel('Learning Rate')\n",
    "# plt.legend()\n",
    "plt.grid()\n",
    "plt.xticks(np.arange(0, 0.6, step=0.05))\n",
    "plt.scatter(X_N,rmse_value)\n",
    "plt.show()"
   ]
  },
  {
   "cell_type": "code",
   "execution_count": 49,
   "metadata": {},
   "outputs": [
    {
     "name": "stdout",
     "output_type": "stream",
     "text": [
      "5.813254291152634e-05 , 0.003394645932059786\n"
     ]
    }
   ],
   "source": [
    "print(final_train_cost, ',', final_test_cost)"
   ]
  },
  {
   "cell_type": "code",
   "execution_count": null,
   "metadata": {},
   "outputs": [],
   "source": []
  }
 ],
 "metadata": {
  "kernelspec": {
   "display_name": "Python 3",
   "language": "python",
   "name": "python3"
  },
  "language_info": {
   "codemirror_mode": {
    "name": "ipython",
    "version": 3
   },
   "file_extension": ".py",
   "mimetype": "text/x-python",
   "name": "python",
   "nbconvert_exporter": "python",
   "pygments_lexer": "ipython3",
   "version": "3.6.5"
  }
 },
 "nbformat": 4,
 "nbformat_minor": 2
}
